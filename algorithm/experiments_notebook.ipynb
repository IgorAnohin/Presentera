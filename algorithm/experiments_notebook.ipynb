{
 "cells": [
  {
   "cell_type": "markdown",
   "metadata": {},
   "source": [
    "# Utilities"
   ]
  },
  {
   "cell_type": "code",
   "execution_count": 25,
   "metadata": {
    "ExecuteTime": {
     "end_time": "2021-04-24T10:29:00.989941Z",
     "start_time": "2021-04-24T10:29:00.973360Z"
    }
   },
   "outputs": [],
   "source": [
    "def to_vector(p1, p2):\n",
    "    x1, y1 = p1\n",
    "    x2, y2 = p2\n",
    "    return ((x2 - x1), (y2 - y1))\n",
    "\n",
    "def vec_angle(p1_1, p1_2, p2_1, p2_2):\n",
    "    x1, y1 = to_vector(p1_1, p1_2)\n",
    "    x2, y2 = to_vector(p2_1, p2_2)\n",
    "    return (x1*x2 + y1*y2) / (((x1*x1 + y1*y1) * (x2*x2 + y2*y2))**0.5)\n",
    "\n",
    "def find_normal(line_point1, line_point2, point):\n",
    "    x1, y1 = line_point1\n",
    "    x2, y2 = line_point2\n",
    "    x3, y3 = point\n",
    "    \n",
    "    dx = x2 - x1\n",
    "    dy = y2 - y1\n",
    "    \n",
    "    mag = (dx*dx + dy*dy)**0.5\n",
    "    dx /= mag\n",
    "    dy /= mag\n",
    "    \n",
    "    lambd = (dx * (x3 - x1)) + (dy * (y3 - y1))\n",
    "    x4 = (dx * lambd) + x1\n",
    "    y4 = (dy * lambd) + y1\n",
    "    res = (x4, y4)\n",
    "    \n",
    "#     print(\"normal:\", f\"x1,y1: {line_point1}, x2,y2: {line_point2}\", f\"x3,y3: {point}\", f\"mag: {mag}, lambd: {lambd}\", f\"res: {res}\")\n",
    "    return res"
   ]
  },
  {
   "cell_type": "code",
   "execution_count": 2,
   "metadata": {
    "ExecuteTime": {
     "end_time": "2021-04-24T10:23:52.088066Z",
     "start_time": "2021-04-24T10:23:52.082671Z"
    }
   },
   "outputs": [],
   "source": [
    "def video_to_images(video_path, out_path):\n",
    "    vidcap = cv.VideoCapture(video_path)\n",
    "    success,image = vidcap.read()\n",
    "    count = 0\n",
    "    while success:\n",
    "        cv.imwrite(f\"{out_path}/frame_{count:0>3d}.jpg\", image) # save frame as JPEG file      \n",
    "        success, image = vidcap.read()\n",
    "        print('Read a new frame: ', success)\n",
    "        count += 1\n",
    "    \n",
    "#video_to_images('videos/short_next_1forward.mp4', './')\n",
    "# video_to_images(f\"{SHORT_NEXT_4_INCORRECT}.mp4\", f\"{SHORT_NEXT_4_INCORRECT}\")"
   ]
  },
  {
   "cell_type": "code",
   "execution_count": 71,
   "metadata": {
    "ExecuteTime": {
     "end_time": "2021-04-24T10:49:19.761157Z",
     "start_time": "2021-04-24T10:49:19.727339Z"
    }
   },
   "outputs": [
    {
     "data": {
      "text/plain": [
       "'/home/pihanya/anaconda3/lib/python3.8/site-packages/mediapipe/__init__.py'"
      ]
     },
     "execution_count": 71,
     "metadata": {},
     "output_type": "execute_result"
    }
   ],
   "source": [
    "# mp.__file__\n",
    "#!pip install ipywebrtc"
   ]
  },
  {
   "cell_type": "markdown",
   "metadata": {},
   "source": [
    "# CS6643 Final Project: Pose Estimation and Matching\n",
    "\n",
    "### Matthew Avallone, Siddharth Choudhary, Kshitija Patel"
   ]
  },
  {
   "cell_type": "code",
   "execution_count": 3,
   "metadata": {
    "ExecuteTime": {
     "end_time": "2021-04-24T10:24:03.352294Z",
     "start_time": "2021-04-24T10:23:54.079408Z"
    }
   },
   "outputs": [
    {
     "name": "stdout",
     "output_type": "stream",
     "text": [
      "Requirement already satisfied: mediapipe in /home/pihanya/anaconda3/lib/python3.8/site-packages (0.8.3.1)\n",
      "Requirement already satisfied: protobuf>=3.11.4 in /home/pihanya/anaconda3/lib/python3.8/site-packages (from mediapipe) (3.15.8)\n",
      "Requirement already satisfied: six in /home/pihanya/anaconda3/lib/python3.8/site-packages (from mediapipe) (1.15.0)\n",
      "Requirement already satisfied: numpy in /home/pihanya/.local/lib/python3.8/site-packages (from mediapipe) (1.18.2)\n",
      "Requirement already satisfied: wheel in /home/pihanya/anaconda3/lib/python3.8/site-packages (from mediapipe) (0.35.1)\n",
      "Requirement already satisfied: dataclasses in /home/pihanya/anaconda3/lib/python3.8/site-packages (from mediapipe) (0.6)\n",
      "Requirement already satisfied: opencv-python in /home/pihanya/anaconda3/lib/python3.8/site-packages (from mediapipe) (4.5.1.48)\n",
      "Requirement already satisfied: attrs>=19.1.0 in /home/pihanya/.local/lib/python3.8/site-packages (from mediapipe) (19.3.0)\n",
      "Requirement already satisfied: absl-py in /home/pihanya/.local/lib/python3.8/site-packages (from mediapipe) (0.9.0)\n"
     ]
    }
   ],
   "source": [
    "!pip install mediapipe"
   ]
  },
  {
   "cell_type": "code",
   "execution_count": 4,
   "metadata": {
    "ExecuteTime": {
     "end_time": "2021-04-24T10:24:05.235851Z",
     "start_time": "2021-04-24T10:24:03.416796Z"
    },
    "colab": {},
    "colab_type": "code",
    "id": "KHh1WStaijPh"
   },
   "outputs": [],
   "source": [
    "import utils\n",
    "\n",
    "import mediapipe as mp\n",
    "from mediapipe.python.solutions.pose import PoseLandmark\n",
    "import cv2 as cv\n",
    "import cv2\n",
    "\n",
    "import numpy as np\n",
    "import matplotlib.pyplot as plt\n",
    "import pandas as pd\n",
    "\n",
    "\n",
    "import time\n",
    "from pathlib import Path\n",
    "import math"
   ]
  },
  {
   "cell_type": "code",
   "execution_count": 5,
   "metadata": {
    "ExecuteTime": {
     "end_time": "2021-04-24T10:24:05.371057Z",
     "start_time": "2021-04-24T10:24:05.357050Z"
    }
   },
   "outputs": [],
   "source": [
    "VIDEOS_FOLDER = Path(\"./videos\")\n",
    "\n",
    "SHORT_NEXT_1FORWARD = VIDEOS_FOLDER / \"short_next_1forward\"\n",
    "SHORT_NEXT_1LEFT = VIDEOS_FOLDER / \"short_next_2left\"\n",
    "SHORT_NEXT_4_INCORRECT = VIDEOS_FOLDER / \"short_next_4incorrect\"\n",
    "\n",
    "FRAME_PATTERN = \"frame_*.jpg\""
   ]
  },
  {
   "cell_type": "markdown",
   "metadata": {
    "colab_type": "text",
    "id": "jqDWZ6ryijPm"
   },
   "source": [
    "### Load Images"
   ]
  },
  {
   "cell_type": "code",
   "execution_count": 30,
   "metadata": {
    "ExecuteTime": {
     "end_time": "2021-04-24T16:59:59.498323Z",
     "start_time": "2021-04-24T16:59:59.470856Z"
    },
    "colab": {},
    "colab_type": "code",
    "id": "MS942L3dijPn",
    "outputId": "1b0a503c-52d4-4dda-9268-926daefcdae3"
   },
   "outputs": [
    {
     "ename": "NameError",
     "evalue": "name 'cv' is not defined",
     "output_type": "error",
     "traceback": [
      "\u001b[0;31m---------------------------------------------------------------------------\u001b[0m",
      "\u001b[0;31mNameError\u001b[0m                                 Traceback (most recent call last)",
      "\u001b[0;32m<ipython-input-30-8dca9f2cb55b>\u001b[0m in \u001b[0;36m<module>\u001b[0;34m\u001b[0m\n\u001b[1;32m      1\u001b[0m \u001b[0;31m#frame1 = cv.imread(f\"images/running1.jpg\") # input\u001b[0m\u001b[0;34m\u001b[0m\u001b[0;34m\u001b[0m\u001b[0;34m\u001b[0m\u001b[0m\n\u001b[0;32m----> 2\u001b[0;31m \u001b[0mframe1\u001b[0m \u001b[0;34m=\u001b[0m \u001b[0mcv\u001b[0m\u001b[0;34m.\u001b[0m\u001b[0mimread\u001b[0m\u001b[0;34m(\u001b[0m\u001b[0mstr\u001b[0m\u001b[0;34m(\u001b[0m\u001b[0mSHORT_NEXT_1FORWARD\u001b[0m \u001b[0;34m/\u001b[0m \u001b[0;34m\"frame_000.jpg\"\u001b[0m\u001b[0;34m)\u001b[0m\u001b[0;34m)\u001b[0m\u001b[0;34m\u001b[0m\u001b[0;34m\u001b[0m\u001b[0m\n\u001b[0m\u001b[1;32m      3\u001b[0m \u001b[0;34m\u001b[0m\u001b[0m\n\u001b[1;32m      4\u001b[0m \u001b[0;31m#frame1 = cv.imread(f\"images/running2.jpg\") # output\u001b[0m\u001b[0;34m\u001b[0m\u001b[0;34m\u001b[0m\u001b[0;34m\u001b[0m\u001b[0m\n\u001b[1;32m      5\u001b[0m \u001b[0mframe2\u001b[0m \u001b[0;34m=\u001b[0m \u001b[0mcv\u001b[0m\u001b[0;34m.\u001b[0m\u001b[0mimread\u001b[0m\u001b[0;34m(\u001b[0m\u001b[0mstr\u001b[0m\u001b[0;34m(\u001b[0m\u001b[0mSHORT_NEXT_1LEFT\u001b[0m \u001b[0;34m/\u001b[0m \u001b[0;34m\"frame_000.jpg\"\u001b[0m\u001b[0;34m)\u001b[0m\u001b[0;34m)\u001b[0m \u001b[0;31m# test succ\u001b[0m\u001b[0;34m\u001b[0m\u001b[0;34m\u001b[0m\u001b[0m\n",
      "\u001b[0;31mNameError\u001b[0m: name 'cv' is not defined"
     ]
    }
   ],
   "source": [
    "#frame1 = cv.imread(f\"images/running1.jpg\") # input\n",
    "frame1 = cv.imread(str(SHORT_NEXT_1FORWARD / \"frame_000.jpg\"))\n",
    "\n",
    "#frame1 = cv.imread(f\"images/running2.jpg\") # output\n",
    "frame2 = cv.imread(str(SHORT_NEXT_1LEFT / \"frame_000.jpg\")) # test succ\n",
    "# frame2 = cv.imread(SHORT_NEXT_1LEFT / \"frame_020.jpg\") # test fail\n",
    "# frame2 = cv.imread(SHORT_NEXT_1LEFT / \"frame_003.jpg\") # test full fail\n",
    "\n",
    "# Ensure images are the same size\n",
    "hi = min(frame1.shape[0], frame2.shape[0])\n",
    "wi = min(frame1.shape[1], frame2.shape[1])\n",
    "\n",
    "frame1 = cv.resize(frame1, (wi,hi))\n",
    "frame2 = cv.resize(frame2, (wi,hi))\n",
    "\n",
    "# Visualize images\n",
    "fig = plt.figure(figsize = (10,20))\n",
    "\n",
    "plt.subplot(121)\n",
    "plt.imshow(frame1[:,:,::-1])\n",
    "\n",
    "plt.subplot(122)\n",
    "plt.imshow(frame2[:,:,::-1])"
   ]
  },
  {
   "cell_type": "code",
   "execution_count": 7,
   "metadata": {
    "ExecuteTime": {
     "end_time": "2021-04-24T10:24:09.419513Z",
     "start_time": "2021-04-24T10:24:09.406814Z"
    },
    "colab": {},
    "colab_type": "code",
    "id": "23XBfxa2ijPs"
   },
   "outputs": [],
   "source": [
    "frameWidth = frame1.shape[1]\n",
    "frameHeight = frame1.shape[0]"
   ]
  },
  {
   "cell_type": "markdown",
   "metadata": {
    "colab_type": "text",
    "id": "sfAp97lTijPw"
   },
   "source": [
    "### Similarity/visualization\n",
    "\n",
    "Hence we initialize a dictionary and 2D array to be able to mark these points on our image and connect them easily "
   ]
  },
  {
   "cell_type": "code",
   "execution_count": 31,
   "metadata": {
    "ExecuteTime": {
     "end_time": "2021-04-24T10:32:50.051166Z",
     "start_time": "2021-04-24T10:32:50.010740Z"
    }
   },
   "outputs": [],
   "source": [
    "def similarity_score(pose1, pose2):\n",
    "    p1 = []\n",
    "    p2 = []\n",
    "    pose_1 = np.array(pose1, dtype=np.float)\n",
    "    pose_2 = np.array(pose2, dtype=np.float)\n",
    "\n",
    "    # Normalize coordinates\n",
    "    pose_1[:,0] = pose_1[:,0] / max(pose_1[:,0])\n",
    "    pose_1[:,1] = pose_1[:,1] / max(pose_1[:,1])\n",
    "    pose_2[:,0] = pose_2[:,0] / max(pose_2[:,0])\n",
    "    pose_2[:,1] = pose_2[:,1] / max(pose_2[:,1])\n",
    "\n",
    "    # L2 Normalization\n",
    "#     for joint in range(pose_1.shape[0]):\n",
    "#         mag1 = float(math.sqrt(pose_1[joint][0]**2 + pose_1[joint][1]**2))\n",
    "#         mag2 = float(math.sqrt(pose_2[joint][0]**2 + pose_2[joint][1]**2))\n",
    "\n",
    "#         pose_1[joint][0] = pose_1[joint][0] / mag1\n",
    "#         pose_1[joint][1] = pose_1[joint][1] / mag2\n",
    "#         pose_2[joint][0] = pose_2[joint][0] / mag2\n",
    "#         pose_2[joint][1] = pose_2[joint][1] / mag2\n",
    "\n",
    "    # Turn (16x2) into (32x1)\n",
    "    for joint in range(pose_1.shape[0]):\n",
    "        x1 = pose_1[joint][0]\n",
    "        y1 = pose_1[joint][1]\n",
    "        x2 = pose_2[joint][0]\n",
    "        y2 = pose_2[joint][1]\n",
    "\n",
    "        p1.append(x1)\n",
    "        p1.append(y1)\n",
    "        p2.append(x2)\n",
    "        p2.append(y2)\n",
    "\n",
    "    p1 = np.array(p1)\n",
    "    p2 = np.array(p2)\n",
    "\n",
    "    # Looking to minimize the distance if there is a match\n",
    "    # Computing two different distance metrics\n",
    "    scoreA = utils.cosine_distance(p1, p2)\n",
    "    scoreB = utils.weight_distance(p1, p2, conf1)\n",
    "\n",
    "    print(\"Cosine Distance:\", scoreA)\n",
    "    print(\"Weighted Distance:\", scoreB)"
   ]
  },
  {
   "cell_type": "code",
   "execution_count": 32,
   "metadata": {
    "ExecuteTime": {
     "end_time": "2021-04-24T10:32:50.531080Z",
     "start_time": "2021-04-24T10:32:50.475351Z"
    }
   },
   "outputs": [],
   "source": [
    "def visualize_output(pose1, pose2, size):\n",
    "    assert(len(pose1) == len(pose2))\n",
    "    pose_len = len(pose1)\n",
    "    \n",
    "    # Initialize blank canvas\n",
    "    canvas = np.ones(size)\n",
    "\n",
    "    # Plot points on images\n",
    "    for pair in POSE_PAIRS:\n",
    "        partFrom = pair[0]\n",
    "        partTo = pair[1]\n",
    "        assert(partFrom in BODY_PARTS)\n",
    "        assert(partTo in BODY_PARTS)\n",
    "\n",
    "        idFrom = BODY_PARTS[partFrom]\n",
    "        idTo = BODY_PARTS[partTo]\n",
    "        \n",
    "        if idFrom >= pose_len:\n",
    "            continue\n",
    "        elif idTo >= pose_len:\n",
    "            continue\n",
    "        \n",
    "        if pose1[idFrom] and pose1[idTo]:\n",
    "            cv.line(canvas, pose1[idFrom], pose1[idTo], (0, 255, 0), 3)\n",
    "            cv.ellipse(canvas, pose1[idFrom], (4, 4), 0, 0, 360, (0, 255, 0), cv.FILLED)\n",
    "            cv.ellipse(canvas, pose1[idTo], (4, 4), 0, 0, 360, (0, 255, 0), cv.FILLED)\n",
    "\n",
    "    for pair in POSE_PAIRS:\n",
    "        partFrom = pair[0]\n",
    "        partTo = pair[1]\n",
    "        assert(partFrom in BODY_PARTS)\n",
    "        assert(partTo in BODY_PARTS)\n",
    "\n",
    "        idFrom = BODY_PARTS[partFrom]\n",
    "        idTo = BODY_PARTS[partTo]\n",
    "        \n",
    "        if idFrom >= pose_len:\n",
    "            continue\n",
    "        elif idTo >= pose_len:\n",
    "            continue\n",
    "        \n",
    "        if pose2[idFrom] and pose2[idTo]:\n",
    "            cv.line(canvas, pose2[idFrom], pose2[idTo], (255, 0, 0), 3)\n",
    "            cv.ellipse(canvas, pose2[idFrom], (4, 4), 0, 0, 360, (255, 0, 0), cv.FILLED)\n",
    "            cv.ellipse(canvas, pose2[idTo], (4, 4), 0, 0, 360, (255, 0, 0), cv.FILLED)\n",
    "\n",
    "    # Visualize images\n",
    "    fig3 = plt.figure(figsize = (10,10))\n",
    "    plt.imshow(canvas[:,:,::-1])\n",
    "    plt.grid(True)"
   ]
  },
  {
   "cell_type": "markdown",
   "metadata": {},
   "source": [
    "## Solution 1"
   ]
  },
  {
   "cell_type": "code",
   "execution_count": 9,
   "metadata": {
    "ExecuteTime": {
     "end_time": "2021-04-24T10:24:09.831102Z",
     "start_time": "2021-04-24T10:24:09.817077Z"
    }
   },
   "outputs": [],
   "source": [
    "# See https://google.github.io/mediapipe/images/mobile/pose_tracking_full_body_landmarks.png\n",
    "BODY_PARTS = {\n",
    "    \"Head\": 25, # Augmented data\n",
    "    #\"Neck\": ...,\n",
    "    #\"Neck\": 0, # It's a nose actually\n",
    "    \"Neck\": 26, # Augmented data\n",
    "    \"RShoulder\": 12,\n",
    "    \"RElbow\": 14,\n",
    "    \"RWrist\": 16,\n",
    "    \"LShoulder\": 11,\n",
    "    \"LElbow\": 13,\n",
    "    \"LWrist\": 15,\n",
    "    \"RHip\": 24,\n",
    "    #\"RKnee\": 26, # because we're using simplified model\n",
    "    #\"RAnkle\": 28, # because we're using simplified model\n",
    "    \"LHip\": 23,\n",
    "    #\"LKnee\": 25, # because we're using simplified model\n",
    "    #\"LAnkle\": 27 # because we're using simplified model\n",
    "    #\"Chest\": ...\n",
    "    \"Chest\": 27 # Augmented data\n",
    "    #\"Background\": ...\n",
    "}\n",
    "\n",
    "POSE_PAIRS = [\n",
    "    [\"Head\", \"Neck\"],\n",
    "    [\"Neck\", \"RShoulder\"],\n",
    "    [\"RShoulder\", \"RElbow\"],\n",
    "    [\"RElbow\", \"RWrist\"],\n",
    "    [\"Neck\", \"LShoulder\"],\n",
    "    [\"LShoulder\", \"LElbow\"],\n",
    "    [\"LElbow\", \"LWrist\"],\n",
    "    [\"Neck\", \"Chest\"],\n",
    "    [\"Chest\", \"RHip\"],\n",
    "    #[\"RHip\", \"RKnee\"],\n",
    "    #[\"RKnee\", \"RAnkle\"],\n",
    "    [\"Chest\", \"LHip\"],\n",
    "    #[\"LHip\", \"LKnee\"],\n",
    "    #[\"LKnee\", \"LAnkle\"] \n",
    "]"
   ]
  },
  {
   "cell_type": "markdown",
   "metadata": {},
   "source": [
    "### Pose Detector"
   ]
  },
  {
   "cell_type": "code",
   "execution_count": 26,
   "metadata": {
    "ExecuteTime": {
     "end_time": "2021-04-24T10:29:04.218855Z",
     "start_time": "2021-04-24T10:29:04.130323Z"
    }
   },
   "outputs": [],
   "source": [
    "HEAD = 25\n",
    "NECK = 26\n",
    "CHEST = 27\n",
    "\n",
    "class poseDetector():\n",
    "\n",
    "    def __init__(self, mode=False, upBody=True, smooth=True,\n",
    "                 detectionCon=0.5, trackCon=0.5):\n",
    "\n",
    "        self.mode = mode\n",
    "        self.upBody = upBody\n",
    "        self.smooth = smooth\n",
    "        self.detectionCon = detectionCon\n",
    "        self.trackCon = trackCon\n",
    "\n",
    "        self.mpDraw = mp.solutions.drawing_utils\n",
    "        self.mpPose = mp.solutions.pose\n",
    "        self.pose = self.mpPose.Pose(self.mode, self.upBody, self.smooth,\n",
    "                                     self.detectionCon, self.trackCon)\n",
    "       \n",
    "    def _merge_to_landmark(self, landmarks, points):\n",
    "        for idx, point in enumerate(points):\n",
    "            (new_x, new_y) = point\n",
    "            landmark = {\"x\": new_x, \"y\": new_y}\n",
    "            if idx < len(landmarks):\n",
    "                landmarks[idx] = landmark\n",
    "                pass\n",
    "            else:\n",
    "                landmarks.append(landmark)\n",
    "            \n",
    "    \n",
    "    def _to_point(self, landmark):\n",
    "        return ((landmark.x), (landmark.y))\n",
    "        \n",
    "    \n",
    "    def augment_landmarks(self, landmarks):\n",
    "        new_landmarks = []\n",
    "        for landmark in landmarks:\n",
    "            new_landmarks.append(self._to_point(landmark))\n",
    "\n",
    "        # --- 25. Head, 26. Neck\n",
    "        nose = self._to_point(landmarks[PoseLandmark.NOSE])\n",
    "        \n",
    "        left_eye = self._to_point(landmarks[PoseLandmark.LEFT_EYE])\n",
    "        right_eye = self._to_point(landmarks[PoseLandmark.RIGHT_EYE])\n",
    "        \n",
    "        eye_middle = find_normal(left_eye, right_eye, nose)\n",
    "\n",
    "        # nose -> eye middle is 2, then half proportion is vector divided by 4\n",
    "        half_proportion = to_vector(nose, eye_middle)\n",
    "        half_proportion = (half_proportion[0] / 4, half_proportion[1] / 4)\n",
    "        \n",
    "        # See face proportions https://i.pinimg.com/originals/9d/e1/d1/9de1d16dab7a5d5a819bf351b21ac598.jpg\n",
    "        # nose -> head top is 5.5 => 11*0.5\n",
    "        head = ((nose[0] + 11*half_proportion[0]), (nose[1] + 11*half_proportion[1]))\n",
    "        new_landmarks.append(head)\n",
    "        \n",
    "        # neck -> nose is 2.5 => 5*0.5\n",
    "        neck = ((nose[0] - 5*half_proportion[0]), (nose[1] - 5*half_proportion[1]))\n",
    "        new_landmarks.append(neck)\n",
    "        \n",
    "        # --- 27. Chest\n",
    "        # chest == (LShoulder + RShoulder) / 2\n",
    "        lshoulder = self._to_point(landmarks[PoseLandmark.LEFT_SHOULDER])\n",
    "        rshoulder = self._to_point(landmarks[PoseLandmark.RIGHT_SHOULDER])\n",
    "        chest = ((rshoulder[0] + lshoulder[0]) / 2, (rshoulder[1] + lshoulder[1]) / 2)\n",
    "        new_landmarks.append(chest)\n",
    "        \n",
    "#         print(\n",
    "#             f\"Neck:\\t{neck[0]}\\t{neck[1]}\",\n",
    "#             f\"Nose:\\t{nose[0]}\\t{nose[1]}\", \n",
    "#             f\"Head:\\t{head[0]}\\t{head[1]}\",\n",
    "#             \"\\n\",\n",
    "            \n",
    "#             f\"Left eye:\\t{left_eye[0]}\\t{left_eye[1]}\", \n",
    "#             f\"Eye middle:\\t{eye_middle[0]}\\t{eye_middle[1]}\", \n",
    "#             f\"Right eye:\\t{right_eye[0]}\\t{right_eye[1]}\",\n",
    "#             \"\\n\",\n",
    "            \n",
    "#             f\"Left shoulder:\\t{lshoulder[0]}\\t{lshoulder[1]}\",\n",
    "#             f\"Chest:\\t{chest[0]}\\t{chest[1]}\",\n",
    "#             f\"Right shoulder:\\t{rshoulder[0]}\\t{rshoulder[1]}\",\n",
    "#             \"\\n\",\n",
    "            \n",
    "#             f\"(nose -> eye_middle):\\t{to_vector(nose, eye_middle)[0]}\\t{to_vector(nose, eye_middle)[1]}\",\n",
    "#             f\"Half proportion:\\t{half_proportion[0]}\\t{half_proportion[1]}\",\n",
    "#             f\"Len before:\\t{len(landmarks)}\\t{len(new_landmarks)}\",\n",
    "#             sep=\"\\n\"\n",
    "#         )\n",
    "    \n",
    "        return new_landmarks\n",
    "    \n",
    "    def augment_connections(self, connections):\n",
    "        return frozenset.union(connections, frozenset([\n",
    "            (HEAD, NECK),\n",
    "            (NECK, PoseLandmark.LEFT_SHOULDER),\n",
    "            (NECK, PoseLandmark.RIGHT_SHOULDER),\n",
    "            (NECK, CHEST),\n",
    "            (CHEST, PoseLandmark.LEFT_HIP),\n",
    "            (CHEST, PoseLandmark.RIGHT_HIP)\n",
    "        ]))\n",
    "\n",
    "    \n",
    "    def findPose(self, img, draw=True):\n",
    "        imgRGB = cv2.cvtColor(img, cv2.COLOR_BGR2RGB)\n",
    "        self.results = self.pose.process(imgRGB)\n",
    "        if self.results.pose_landmarks:\n",
    "            if draw:\n",
    "                self.augmented_landmarks = self.augment_landmarks(self.results.pose_landmarks.landmark)\n",
    "                self.augmented_poses = self.augment_connections(self.mpPose.UPPER_BODY_POSE_CONNECTIONS)\n",
    "                \n",
    "                #self._merge_to_landmark(self.results.pose_landmarks.landmark, self.augmented_landmarks)\n",
    "                self._merge_to_landmark(self.augmented_landmarks, self.augmented_landmarks)\n",
    "                \n",
    "                #self.mpDraw.draw_landmarks(img, self.results.pose_landmarks, self.augmented_poses)\n",
    "                self.mpDraw.draw_landmarks(img, self.augmented_landmarks, self.augmented_poses)\n",
    "        return img\n",
    "\n",
    "    \n",
    "    def findPosition(self, img, draw=True):\n",
    "        self.lmList = []\n",
    "        if self.results.pose_landmarks:\n",
    "            #for id, lm in enumerate(self.augmented_landmarks):\n",
    "            for id, lm in enumerate(self.results.pose_landmarks.landmark):\n",
    "                h, w, c = img.shape\n",
    "                # print(id, lm)\n",
    "                cx, cy = int(lm.x * w), int(lm.y * h)\n",
    "                self.lmList.append([id, cx, cy])\n",
    "                if draw:\n",
    "                    cv2.circle(img, (cx, cy), 5, (255, 0, 0), cv2.FILLED)\n",
    "        return self.lmList\n",
    "\n",
    "    \n",
    "    def findAngle(self, img, p1, p2, p3, draw=True):\n",
    "\n",
    "        # Get the landmarks\n",
    "        x1, y1 = self.lmList[p1][1:]\n",
    "        x2, y2 = self.lmList[p2][1:]\n",
    "        x3, y3 = self.lmList[p3][1:]\n",
    "\n",
    "        # Calculate the Angle\n",
    "        angle = math.degrees(math.atan2(y3 - y2, x3 - x2) -\n",
    "                             math.atan2(y1 - y2, x1 - x2))\n",
    "        if angle < 0:\n",
    "            angle += 360\n",
    "\n",
    "        # print(angle)\n",
    "\n",
    "        # Draw\n",
    "        if draw:\n",
    "            cv2.line(img, (x1, y1), (x2, y2), (255, 255, 255), 3)\n",
    "            cv2.line(img, (x3, y3), (x2, y2), (255, 255, 255), 3)\n",
    "            cv2.circle(img, (x1, y1), 10, (0, 0, 255), cv2.FILLED)\n",
    "            cv2.circle(img, (x1, y1), 15, (0, 0, 255), 2)\n",
    "            cv2.circle(img, (x2, y2), 10, (0, 0, 255), cv2.FILLED)\n",
    "            cv2.circle(img, (x2, y2), 15, (0, 0, 255), 2)\n",
    "            cv2.circle(img, (x3, y3), 10, (0, 0, 255), cv2.FILLED)\n",
    "            cv2.circle(img, (x3, y3), 15, (0, 0, 255), 2)\n",
    "            cv2.putText(img, str(int(angle)), (x2 - 50, y2 + 50),\n",
    "                        cv2.FONT_HERSHEY_PLAIN, 2, (0, 0, 255), 2)\n",
    "        return angle"
   ]
  },
  {
   "cell_type": "markdown",
   "metadata": {},
   "source": [
    "### Sample"
   ]
  },
  {
   "cell_type": "code",
   "execution_count": 47,
   "metadata": {
    "ExecuteTime": {
     "end_time": "2021-04-24T10:35:12.194673Z",
     "start_time": "2021-04-24T10:35:12.136411Z"
    }
   },
   "outputs": [],
   "source": [
    "detector = poseDetector()"
   ]
  },
  {
   "cell_type": "code",
   "execution_count": 48,
   "metadata": {
    "ExecuteTime": {
     "end_time": "2021-04-24T10:35:14.240744Z",
     "start_time": "2021-04-24T10:35:13.834627Z"
    }
   },
   "outputs": [],
   "source": [
    "frame1 = detector.findPose(frame1)\n",
    "lm_list1 = detector.findPosition(frame1, draw=False)"
   ]
  },
  {
   "cell_type": "code",
   "execution_count": 49,
   "metadata": {
    "ExecuteTime": {
     "end_time": "2021-04-24T10:35:14.865887Z",
     "start_time": "2021-04-24T10:35:14.686181Z"
    }
   },
   "outputs": [],
   "source": [
    "frame2 = detector.findPose(frame2)\n",
    "lm_list2 = detector.findPosition(frame2, draw=False)"
   ]
  },
  {
   "cell_type": "code",
   "execution_count": 50,
   "metadata": {
    "ExecuteTime": {
     "end_time": "2021-04-24T10:35:15.295412Z",
     "start_time": "2021-04-24T10:35:15.284257Z"
    }
   },
   "outputs": [],
   "source": [
    "pose1 = [(x, y) for (idx, x, y) in lm_list1]\n",
    "pose2 = [(x, y) for (idx, x, y) in lm_list2]"
   ]
  },
  {
   "cell_type": "code",
   "execution_count": 51,
   "metadata": {
    "ExecuteTime": {
     "end_time": "2021-04-24T10:35:16.109623Z",
     "start_time": "2021-04-24T10:35:16.101759Z"
    }
   },
   "outputs": [],
   "source": [
    "conf1 = [1.0 for x in pose1]"
   ]
  },
  {
   "cell_type": "code",
   "execution_count": 31,
   "metadata": {
    "ExecuteTime": {
     "end_time": "2021-04-24T17:00:08.983591Z",
     "start_time": "2021-04-24T17:00:08.964783Z"
    }
   },
   "outputs": [
    {
     "ename": "NameError",
     "evalue": "name 'plt' is not defined",
     "output_type": "error",
     "traceback": [
      "\u001b[0;31m---------------------------------------------------------------------------\u001b[0m",
      "\u001b[0;31mNameError\u001b[0m                                 Traceback (most recent call last)",
      "\u001b[0;32m<ipython-input-31-3df42e1a3736>\u001b[0m in \u001b[0;36m<module>\u001b[0;34m\u001b[0m\n\u001b[0;32m----> 1\u001b[0;31m \u001b[0mplt\u001b[0m\u001b[0;34m.\u001b[0m\u001b[0mfigure\u001b[0m\u001b[0;34m(\u001b[0m\u001b[0mfigsize\u001b[0m \u001b[0;34m=\u001b[0m \u001b[0;34m(\u001b[0m\u001b[0;36m15\u001b[0m\u001b[0;34m,\u001b[0m\u001b[0;36m15\u001b[0m\u001b[0;34m)\u001b[0m\u001b[0;34m)\u001b[0m\u001b[0;34m\u001b[0m\u001b[0;34m\u001b[0m\u001b[0m\n\u001b[0m\u001b[1;32m      2\u001b[0m \u001b[0;31m# plt.imshow(frame1)\u001b[0m\u001b[0;34m\u001b[0m\u001b[0;34m\u001b[0m\u001b[0;34m\u001b[0m\u001b[0m\n",
      "\u001b[0;31mNameError\u001b[0m: name 'plt' is not defined"
     ]
    }
   ],
   "source": [
    "plt.figure(figsize = (15,15))\n",
    "plt.imshow(frame1)"
   ]
  },
  {
   "cell_type": "markdown",
   "metadata": {
    "heading_collapsed": true
   },
   "source": [
    "## Solution 2"
   ]
  },
  {
   "cell_type": "markdown",
   "metadata": {
    "colab_type": "text",
    "hidden": true,
    "id": "LsbtrWkzijP3"
   },
   "source": [
    "### Load and run the pretrained Pose estimation model on input image "
   ]
  },
  {
   "cell_type": "markdown",
   "metadata": {
    "colab_type": "text",
    "hidden": true,
    "id": "K4au7OKoijP4"
   },
   "source": [
    "#### Links to the prototxt and pre-trained model of the MPII Pose dataset:\n",
    "\n",
    "Prototxt - https://github.com/CMU-Perceptual-Computing-Lab/openpose/blob/master/models/pose/mpi/pose_deploy_linevec_faster_4_stages.prototxt\n",
    "\n",
    "Model - http://posefs1.perception.cs.cmu.edu/OpenPose/models/pose/mpi/pose_iter_160000.caffemodel"
   ]
  },
  {
   "cell_type": "code",
   "execution_count": null,
   "metadata": {
    "hidden": true
   },
   "outputs": [],
   "source": [
    "# BODY_PARTS = { \"Head\": 0, \"Neck\": 1, \"RShoulder\": 2, \"RElbow\": 3, \"RWrist\": 4,\n",
    "#                \"LShoulder\": 5, \"LElbow\": 6, \"LWrist\": 7, \"RHip\": 8, \"RKnee\": 9,\n",
    "#                \"RAnkle\": 10, \"LHip\": 11, \"LKnee\": 12, \"LAnkle\": 13, \"Chest\": 14,\n",
    "#                \"Background\": 15 }\n",
    "\n",
    "# POSE_PAIRS = [\n",
    "#     [\"Head\", \"Neck\"],\n",
    "#     [\"Neck\", \"RShoulder\"],\n",
    "#     [\"RShoulder\", \"RElbow\"],\n",
    "#     [\"RElbow\", \"RWrist\"],\n",
    "#     [\"Neck\", \"LShoulder\"],\n",
    "#     [\"LShoulder\", \"LElbow\"],\n",
    "#     [\"LElbow\", \"LWrist\"],\n",
    "#     [\"Neck\", \"Chest\"],\n",
    "#     [\"Chest\", \"RHip\"],\n",
    "#     [\"RHip\", \"RKnee\"],\n",
    "#     [\"RKnee\", \"RAnkle\"],\n",
    "#     [\"Chest\", \"LHip\"],\n",
    "#     [\"LHip\", \"LKnee\"],\n",
    "#     [\"LKnee\", \"LAnkle\"] \n",
    "# ]"
   ]
  },
  {
   "cell_type": "code",
   "execution_count": null,
   "metadata": {
    "hidden": true
   },
   "outputs": [],
   "source": [
    "# A default value set \n",
    "inWidth = 300\n",
    "inHeight = 300"
   ]
  },
  {
   "cell_type": "code",
   "execution_count": 21,
   "metadata": {
    "ExecuteTime": {
     "end_time": "2021-04-24T07:42:27.170417Z",
     "start_time": "2021-04-24T07:42:24.867413Z"
    },
    "colab": {},
    "colab_type": "code",
    "hidden": true,
    "id": "KUnaaCCcijP4"
   },
   "outputs": [],
   "source": [
    "net = cv.dnn.readNetFromCaffe(\"pose_deploy_linevec_faster_4_stages.prototxt\", \"pose_iter_160000.caffemodel\")\n",
    "inp = cv.dnn.blobFromImage(frame1, (1.0 / 255), (inWidth, inHeight), (0, 0, 0), swapRB=False, crop=False)\n",
    "net.setInput(inp)\n",
    "out = net.forward()"
   ]
  },
  {
   "cell_type": "markdown",
   "metadata": {
    "colab_type": "text",
    "heading_collapsed": true,
    "hidden": true,
    "id": "v0LKQvNCijQL"
   },
   "source": [
    "#### The output of the DNN is a 4D array with multiple local maximas for each bodypart. \n",
    "\n",
    "We find the global maxima for these local maximas as the location of that body part and form a 2D array of points"
   ]
  },
  {
   "cell_type": "code",
   "execution_count": 9,
   "metadata": {
    "ExecuteTime": {
     "end_time": "2021-04-24T00:13:39.931089Z",
     "start_time": "2021-04-24T00:13:39.921548Z"
    },
    "colab": {},
    "colab_type": "code",
    "hidden": true,
    "id": "dOOYF9F_ijQM",
    "outputId": "ddf204a9-8b9d-4bd4-e78e-1b7aeef86b21"
   },
   "outputs": [
    {
     "name": "stdout",
     "output_type": "stream",
     "text": [
      "(1, 44, 38, 38)\n"
     ]
    }
   ],
   "source": [
    "print (out.shape)"
   ]
  },
  {
   "cell_type": "code",
   "execution_count": 10,
   "metadata": {
    "ExecuteTime": {
     "end_time": "2021-04-24T00:13:39.956826Z",
     "start_time": "2021-04-24T00:13:39.938975Z"
    },
    "colab": {},
    "colab_type": "code",
    "hidden": true,
    "id": "Wks277LRijQQ"
   },
   "outputs": [],
   "source": [
    "pose1 = []\n",
    "conf1 = []\n",
    "for i in range(len(BODY_PARTS)):\n",
    "\n",
    "    heatMap = out[0, i, :, :]\n",
    "    _, conf, _, point = cv.minMaxLoc(heatMap)\n",
    "    \n",
    "    x = (frameWidth * point[0]) / out.shape[3]\n",
    "    y = (frameHeight * point[1]) / out.shape[2]\n",
    "\n",
    "    # Add a point if it's confidence is higher than threshold set to 0.1.\n",
    "    pose1.append((int(x), int(y)) if conf > 0.1 else None)\n",
    "    conf1.append(conf)"
   ]
  },
  {
   "cell_type": "code",
   "execution_count": 11,
   "metadata": {
    "ExecuteTime": {
     "end_time": "2021-04-24T00:13:39.981115Z",
     "start_time": "2021-04-24T00:13:39.960968Z"
    },
    "colab": {},
    "colab_type": "code",
    "hidden": true,
    "id": "TcxFm2dmijQU",
    "outputId": "003ad858-837c-4dac-970b-4867b8c7e203"
   },
   "outputs": [
    {
     "name": "stdout",
     "output_type": "stream",
     "text": [
      "        x       y\n",
      "0   511.0   707.0\n",
      "1   540.0   960.0\n",
      "2   397.0  1061.0\n",
      "3   341.0  1263.0\n",
      "4   312.0  1111.0\n",
      "5   710.0  1010.0\n",
      "6   738.0  1313.0\n",
      "7   710.0  1566.0\n",
      "8   454.0  1515.0\n",
      "9     NaN     NaN\n",
      "10    NaN     NaN\n",
      "11  596.0  1566.0\n",
      "12    NaN     NaN\n",
      "13    NaN     NaN\n",
      "14  540.0  1263.0\n",
      "15  198.0  1263.0\n"
     ]
    }
   ],
   "source": [
    "print (pd.DataFrame(pose1, columns=['x','y']))"
   ]
  },
  {
   "cell_type": "markdown",
   "metadata": {
    "colab_type": "text",
    "hidden": true,
    "id": "WY3KYRC_ijQX"
   },
   "source": [
    "#### Points represent the location the bodyparts\n",
    "\n",
    "These are marked on the input frame, connect with a line, and labelled using OpenCV functions"
   ]
  },
  {
   "cell_type": "markdown",
   "metadata": {
    "colab_type": "text",
    "hidden": true,
    "id": "uqvkEhGlijQc"
   },
   "source": [
    "### Show output"
   ]
  },
  {
   "cell_type": "code",
   "execution_count": 13,
   "metadata": {
    "ExecuteTime": {
     "end_time": "2021-04-24T00:13:41.030642Z",
     "start_time": "2021-04-24T00:13:40.024424Z"
    },
    "colab": {},
    "colab_type": "code",
    "hidden": true,
    "id": "0JSAyGyCijQc",
    "outputId": "b9ae31a0-bd30-459d-a0fc-976faa859ea5"
   },
   "outputs": [
    {
     "data": {
      "text/plain": [
       "<matplotlib.image.AxesImage at 0x7f115c447f40>"
      ]
     },
     "execution_count": 13,
     "metadata": {},
     "output_type": "execute_result"
    },
    {
     "data": {
      "image/png": "[encoded data removed]",
      "text/plain": [
       "<Figure size 720x720 with 1 Axes>"
      ]
     },
     "metadata": {
      "needs_background": "light"
     },
     "output_type": "display_data"
    }
   ],
   "source": [
    "fig1 = plt.figure(figsize = (10,10))\n",
    "plt.imshow(frame1[:,:,::-1])"
   ]
  },
  {
   "cell_type": "markdown",
   "metadata": {
    "hidden": true
   },
   "source": [
    "### Load and run the pretrained pose estimation model on test image"
   ]
  },
  {
   "cell_type": "code",
   "execution_count": 12,
   "metadata": {
    "ExecuteTime": {
     "end_time": "2021-04-24T00:13:40.019019Z",
     "start_time": "2021-04-24T00:13:39.987986Z"
    },
    "colab": {},
    "colab_type": "code",
    "hidden": true,
    "id": "SCSRTVyZijQY"
   },
   "outputs": [],
   "source": [
    "for pair in POSE_PAIRS:\n",
    "    partFrom = pair[0]\n",
    "    partTo = pair[1]\n",
    "    assert(partFrom in BODY_PARTS)\n",
    "    assert(partTo in BODY_PARTS)\n",
    "\n",
    "    idFrom = BODY_PARTS[partFrom]\n",
    "    idTo = BODY_PARTS[partTo]\n",
    "    if pose1[idFrom] and pose1[idTo]:\n",
    "        cv.line(frame1, pose1[idFrom], pose1[idTo], (255, 74, 0), 3)\n",
    "        cv.ellipse(frame1, pose1[idFrom], (4, 4), 0, 0, 360, (255, 255, 255), cv.FILLED)\n",
    "        cv.ellipse(frame1, pose1[idTo], (4, 4), 0, 0, 360, (255, 255, 255), cv.FILLED)\n",
    "        cv.putText(frame1, str(idFrom), pose1[idFrom], cv.FONT_HERSHEY_SIMPLEX, 0.75, (255, 255, 255),2,cv.LINE_AA)\n",
    "        cv.putText(frame1, str(idTo), pose1[idTo], cv.FONT_HERSHEY_SIMPLEX, 0.75, (255, 255, 255),2,cv.LINE_AA)"
   ]
  },
  {
   "cell_type": "markdown",
   "metadata": {
    "hidden": true
   },
   "source": [
    "Run the pose estimation model"
   ]
  },
  {
   "cell_type": "code",
   "execution_count": 14,
   "metadata": {
    "ExecuteTime": {
     "end_time": "2021-04-24T00:13:43.740280Z",
     "start_time": "2021-04-24T00:13:41.033055Z"
    },
    "hidden": true
   },
   "outputs": [],
   "source": [
    "inp = cv.dnn.blobFromImage(frame2, (1.0 / 255), (inWidth, inHeight), (0, 0, 0), swapRB=False, crop=False)\n",
    "net.setInput(inp)\n",
    "out = net.forward()"
   ]
  },
  {
   "cell_type": "markdown",
   "metadata": {
    "hidden": true
   },
   "source": [
    "Create list of points"
   ]
  },
  {
   "cell_type": "code",
   "execution_count": 15,
   "metadata": {
    "ExecuteTime": {
     "end_time": "2021-04-24T00:13:43.771508Z",
     "start_time": "2021-04-24T00:13:43.746084Z"
    },
    "hidden": true
   },
   "outputs": [],
   "source": [
    "pose2 = []\n",
    "for i in range(len(BODY_PARTS)):\n",
    "\n",
    "    heatMap = out[0, i, :, :]\n",
    "    _, conf, _, point = cv.minMaxLoc(heatMap)\n",
    "    \n",
    "    x = (frameWidth * point[0]) / out.shape[3]\n",
    "    y = (frameHeight * point[1]) / out.shape[2]\n",
    "\n",
    "    pose2.append((int(x), int(y)) if conf > 0.1 else None)"
   ]
  },
  {
   "cell_type": "code",
   "execution_count": 16,
   "metadata": {
    "ExecuteTime": {
     "end_time": "2021-04-24T00:13:43.813603Z",
     "start_time": "2021-04-24T00:13:43.778395Z"
    },
    "hidden": true
   },
   "outputs": [
    {
     "name": "stdout",
     "output_type": "stream",
     "text": [
      "        x       y\n",
      "0   341.0   707.0\n",
      "1   312.0   960.0\n",
      "2   170.0  1010.0\n",
      "3   284.0  1212.0\n",
      "4   511.0  1061.0\n",
      "5   397.0  1010.0\n",
      "6   454.0  1263.0\n",
      "7   483.0  1515.0\n",
      "8   284.0  1616.0\n",
      "9     NaN     NaN\n",
      "10    NaN     NaN\n",
      "11  426.0  1566.0\n",
      "12    NaN     NaN\n",
      "13    NaN     NaN\n",
      "14  341.0  1313.0\n",
      "15   56.0  1364.0\n"
     ]
    }
   ],
   "source": [
    "print (pd.DataFrame(pose2, columns=['x','y']))"
   ]
  },
  {
   "cell_type": "markdown",
   "metadata": {
    "hidden": true
   },
   "source": [
    "Plot the pose onto the test image"
   ]
  },
  {
   "cell_type": "code",
   "execution_count": 17,
   "metadata": {
    "ExecuteTime": {
     "end_time": "2021-04-24T00:13:43.850776Z",
     "start_time": "2021-04-24T00:13:43.826905Z"
    },
    "hidden": true
   },
   "outputs": [],
   "source": [
    "for pair in POSE_PAIRS:\n",
    "    partFrom = pair[0]\n",
    "    partTo = pair[1]\n",
    "    assert(partFrom in BODY_PARTS)\n",
    "    assert(partTo in BODY_PARTS)\n",
    "\n",
    "    idFrom = BODY_PARTS[partFrom]\n",
    "    idTo = BODY_PARTS[partTo]\n",
    "    if pose2[idFrom] and pose2[idTo]:\n",
    "        cv.line(frame2, pose2[idFrom], pose2[idTo], (255, 74, 0), 3)\n",
    "        cv.ellipse(frame2, pose2[idFrom], (4, 4), 0, 0, 360, (255, 255, 255), cv.FILLED)\n",
    "        cv.ellipse(frame2, pose2[idTo], (4, 4), 0, 0, 360, (255, 255, 255), cv.FILLED)\n",
    "        cv.putText(frame2, str(idFrom), pose2[idFrom], cv.FONT_HERSHEY_SIMPLEX, 0.75, (255, 255, 255),2,cv.LINE_AA)\n",
    "        cv.putText(frame2, str(idTo), pose2[idTo], cv.FONT_HERSHEY_SIMPLEX, 0.75, (255, 255, 255),2,cv.LINE_AA)"
   ]
  },
  {
   "cell_type": "markdown",
   "metadata": {
    "hidden": true
   },
   "source": [
    "### Show output"
   ]
  },
  {
   "cell_type": "code",
   "execution_count": 18,
   "metadata": {
    "ExecuteTime": {
     "end_time": "2021-04-24T00:13:44.998846Z",
     "start_time": "2021-04-24T00:13:43.859063Z"
    },
    "hidden": true
   },
   "outputs": [
    {
     "data": {
      "text/plain": [
       "<matplotlib.image.AxesImage at 0x7f115c434130>"
      ]
     },
     "execution_count": 18,
     "metadata": {},
     "output_type": "execute_result"
    },
    {
     "data": {
      "image/png": "[encoded data removed]",
      "text/plain": [
       "<Figure size 720x720 with 1 Axes>"
      ]
     },
     "metadata": {
      "needs_background": "light"
     },
     "output_type": "display_data"
    }
   ],
   "source": [
    "fig2 = plt.figure(figsize = (10,10))\n",
    "plt.imshow(frame2[:,:,::-1])"
   ]
  },
  {
   "cell_type": "markdown",
   "metadata": {
    "hidden": true
   },
   "source": [
    "### Compare similarity of poses between input and test images"
   ]
  },
  {
   "cell_type": "markdown",
   "metadata": {
    "hidden": true
   },
   "source": [
    "Format the pose vectors into correct format"
   ]
  },
  {
   "cell_type": "code",
   "execution_count": 88,
   "metadata": {
    "ExecuteTime": {
     "end_time": "2021-04-24T08:02:06.550354Z",
     "start_time": "2021-04-24T08:02:06.545792Z"
    },
    "hidden": true
   },
   "outputs": [],
   "source": [
    "def set_pose_element_by_indexes(pose, indexes, set_value=(0, 0)):\n",
    "    modified_pose = [x for x in pose]\n",
    "    for index in indexes:\n",
    "        modified_pose[index] = set_value\n",
    "        \n",
    "    return modified_pose\n",
    "    \n",
    "\n",
    "def normalize_broken_pose(pose, normalized_value=(0, 0)):\n",
    "    normalized_pose = []\n",
    "    broken_indexes = []\n",
    "    for idx, pose_element in enumerate(pose):\n",
    "        if pose_element is None:\n",
    "            normalized_pose.append(normalized_value)\n",
    "            broken_indexes.append(idx)\n",
    "        else:\n",
    "            normalized_pose.append(pose_element)\n",
    "    \n",
    "    if len(broken_indexes) == 0:\n",
    "        return (normalized_pose, None)\n",
    "    else:\n",
    "        return (normalized_pose, broken_indexes)"
   ]
  },
  {
   "cell_type": "code",
   "execution_count": 87,
   "metadata": {
    "ExecuteTime": {
     "end_time": "2021-04-24T08:01:47.433537Z",
     "start_time": "2021-04-24T08:01:47.425545Z"
    },
    "hidden": true
   },
   "outputs": [],
   "source": [
    "# def similarity_score(pose1, pose2):\n",
    "#     p1 = []\n",
    "#     p2 = []\n",
    "#     pose_1 = np.array(pose1, dtype=np.float)\n",
    "#     pose_2 = np.array(pose2, dtype=np.float)\n",
    "\n",
    "#     # Normalize coordinates\n",
    "#     pose_1[:,0] = pose_1[:,0] / max(pose_1[:,0])\n",
    "#     pose_1[:,1] = pose_1[:,1] / max(pose_1[:,1])\n",
    "#     pose_2[:,0] = pose_2[:,0] / max(pose_2[:,0])\n",
    "#     pose_2[:,1] = pose_2[:,1] / max(pose_2[:,1])\n",
    "\n",
    "#     # L2 Normalization\n",
    "# #     for joint in range(pose_1.shape[0]):\n",
    "# #         mag1 = float(math.sqrt(pose_1[joint][0]**2 + pose_1[joint][1]**2))\n",
    "# #         mag2 = float(math.sqrt(pose_2[joint][0]**2 + pose_2[joint][1]**2))\n",
    "\n",
    "# #         pose_1[joint][0] = pose_1[joint][0] / mag1\n",
    "# #         pose_1[joint][1] = pose_1[joint][1] / mag2\n",
    "# #         pose_2[joint][0] = pose_2[joint][0] / mag2\n",
    "# #         pose_2[joint][1] = pose_2[joint][1] / mag2\n",
    "\n",
    "#     # Turn (16x2) into (32x1)\n",
    "#     for joint in range(pose_1.shape[0]):\n",
    "#         x1 = pose_1[joint][0]\n",
    "#         y1 = pose_1[joint][1]\n",
    "#         x2 = pose_2[joint][0]\n",
    "#         y2 = pose_2[joint][1]\n",
    "\n",
    "#         p1.append(x1)\n",
    "#         p1.append(y1)\n",
    "#         p2.append(x2)\n",
    "#         p2.append(y2)\n",
    "\n",
    "#     p1 = np.array(p1)\n",
    "#     p2 = np.array(p2)\n",
    "\n",
    "#     # Looking to minimize the distance if there is a match\n",
    "#     # Computing two different distance metrics\n",
    "#     scoreA = utils.cosine_distance(p1, p2)\n",
    "#     scoreB = utils.weight_distance(p1, p2, conf1)\n",
    "\n",
    "#     print(\"Cosine Distance:\", scoreA)\n",
    "#     print(\"Weighted Distance:\", scoreB)"
   ]
  },
  {
   "cell_type": "markdown",
   "metadata": {
    "hidden": true
   },
   "source": [
    "#### Compute a distance score between the two pose vectors"
   ]
  },
  {
   "cell_type": "code",
   "execution_count": 21,
   "metadata": {
    "ExecuteTime": {
     "end_time": "2021-04-24T00:13:45.064202Z",
     "start_time": "2021-04-24T00:13:45.050443Z"
    },
    "hidden": true
   },
   "outputs": [
    {
     "name": "stdout",
     "output_type": "stream",
     "text": [
      "Cosine Distance: 0.9767401504209838\n",
      "Weighted Distance: 0.13539645914587217\n"
     ]
    }
   ],
   "source": [
    "_, broken_idxs_pose1 = normalize_broken_pose(pose1)\n",
    "_, broken_idxs_pose2 = normalize_broken_pose(pose2)\n",
    "\n",
    "first_broken_idx_pose1, first_broken_idx_pose2 = min(broken_idxs_pose1), min(broken_idxs_pose2)\n",
    "if abs(first_broken_idx_pose1 - first_broken_idx_pose2) <= 1:\n",
    "    cut_idx = min(first_broken_idx_pose1, first_broken_idx_pose2)\n",
    "    normalized_pose1, normalized_pose2 = pose1[:cut_idx], pose2[:cut_idx]\n",
    "\n",
    "similarity_score(normalized_pose1, normalized_pose2)\n",
    "\n",
    "pose1 = normalized_pose1\n",
    "pose2 = normalized_pose2\n",
    "\n",
    "#normalized_pose1 = set_pose_element_by_indexes(pose1, broken_idxs_pose2)"
   ]
  },
  {
   "cell_type": "code",
   "execution_count": 89,
   "metadata": {
    "ExecuteTime": {
     "end_time": "2021-04-24T08:02:19.680752Z",
     "start_time": "2021-04-24T08:02:19.668146Z"
    },
    "hidden": true
   },
   "outputs": [
    {
     "ename": "IndexError",
     "evalue": "too many indices for array",
     "output_type": "error",
     "traceback": [
      "\u001b[0;31m---------------------------------------------------------------------------\u001b[0m",
      "\u001b[0;31mIndexError\u001b[0m                                Traceback (most recent call last)",
      "\u001b[0;32m<ipython-input-89-bb82c14c1663>\u001b[0m in \u001b[0;36m<module>\u001b[0;34m\u001b[0m\n\u001b[0;32m----> 1\u001b[0;31m \u001b[0msimilarity_score\u001b[0m\u001b[0;34m(\u001b[0m\u001b[0mpose1\u001b[0m\u001b[0;34m,\u001b[0m \u001b[0mpose2\u001b[0m\u001b[0;34m)\u001b[0m\u001b[0;34m\u001b[0m\u001b[0;34m\u001b[0m\u001b[0m\n\u001b[0m",
      "\u001b[0;32m<ipython-input-84-a14c97c79f89>\u001b[0m in \u001b[0;36msimilarity_score\u001b[0;34m(pose1, pose2)\u001b[0m\n\u001b[1;32m      8\u001b[0m     \u001b[0mpose_1\u001b[0m\u001b[0;34m[\u001b[0m\u001b[0;34m:\u001b[0m\u001b[0;34m,\u001b[0m\u001b[0;36m0\u001b[0m\u001b[0;34m]\u001b[0m \u001b[0;34m=\u001b[0m \u001b[0mpose_1\u001b[0m\u001b[0;34m[\u001b[0m\u001b[0;34m:\u001b[0m\u001b[0;34m,\u001b[0m\u001b[0;36m0\u001b[0m\u001b[0;34m]\u001b[0m \u001b[0;34m/\u001b[0m \u001b[0mmax\u001b[0m\u001b[0;34m(\u001b[0m\u001b[0mpose_1\u001b[0m\u001b[0;34m[\u001b[0m\u001b[0;34m:\u001b[0m\u001b[0;34m,\u001b[0m\u001b[0;36m0\u001b[0m\u001b[0;34m]\u001b[0m\u001b[0;34m)\u001b[0m\u001b[0;34m\u001b[0m\u001b[0;34m\u001b[0m\u001b[0m\n\u001b[1;32m      9\u001b[0m     \u001b[0mpose_1\u001b[0m\u001b[0;34m[\u001b[0m\u001b[0;34m:\u001b[0m\u001b[0;34m,\u001b[0m\u001b[0;36m1\u001b[0m\u001b[0;34m]\u001b[0m \u001b[0;34m=\u001b[0m \u001b[0mpose_1\u001b[0m\u001b[0;34m[\u001b[0m\u001b[0;34m:\u001b[0m\u001b[0;34m,\u001b[0m\u001b[0;36m1\u001b[0m\u001b[0;34m]\u001b[0m \u001b[0;34m/\u001b[0m \u001b[0mmax\u001b[0m\u001b[0;34m(\u001b[0m\u001b[0mpose_1\u001b[0m\u001b[0;34m[\u001b[0m\u001b[0;34m:\u001b[0m\u001b[0;34m,\u001b[0m\u001b[0;36m1\u001b[0m\u001b[0;34m]\u001b[0m\u001b[0;34m)\u001b[0m\u001b[0;34m\u001b[0m\u001b[0;34m\u001b[0m\u001b[0m\n\u001b[0;32m---> 10\u001b[0;31m     \u001b[0mpose_2\u001b[0m\u001b[0;34m[\u001b[0m\u001b[0;34m:\u001b[0m\u001b[0;34m,\u001b[0m\u001b[0;36m0\u001b[0m\u001b[0;34m]\u001b[0m \u001b[0;34m=\u001b[0m \u001b[0mpose_2\u001b[0m\u001b[0;34m[\u001b[0m\u001b[0;34m:\u001b[0m\u001b[0;34m,\u001b[0m\u001b[0;36m0\u001b[0m\u001b[0;34m]\u001b[0m \u001b[0;34m/\u001b[0m \u001b[0mmax\u001b[0m\u001b[0;34m(\u001b[0m\u001b[0mpose_2\u001b[0m\u001b[0;34m[\u001b[0m\u001b[0;34m:\u001b[0m\u001b[0;34m,\u001b[0m\u001b[0;36m0\u001b[0m\u001b[0;34m]\u001b[0m\u001b[0;34m)\u001b[0m\u001b[0;34m\u001b[0m\u001b[0;34m\u001b[0m\u001b[0m\n\u001b[0m\u001b[1;32m     11\u001b[0m     \u001b[0mpose_2\u001b[0m\u001b[0;34m[\u001b[0m\u001b[0;34m:\u001b[0m\u001b[0;34m,\u001b[0m\u001b[0;36m1\u001b[0m\u001b[0;34m]\u001b[0m \u001b[0;34m=\u001b[0m \u001b[0mpose_2\u001b[0m\u001b[0;34m[\u001b[0m\u001b[0;34m:\u001b[0m\u001b[0;34m,\u001b[0m\u001b[0;36m1\u001b[0m\u001b[0;34m]\u001b[0m \u001b[0;34m/\u001b[0m \u001b[0mmax\u001b[0m\u001b[0;34m(\u001b[0m\u001b[0mpose_2\u001b[0m\u001b[0;34m[\u001b[0m\u001b[0;34m:\u001b[0m\u001b[0;34m,\u001b[0m\u001b[0;36m1\u001b[0m\u001b[0;34m]\u001b[0m\u001b[0;34m)\u001b[0m\u001b[0;34m\u001b[0m\u001b[0;34m\u001b[0m\u001b[0m\n\u001b[1;32m     12\u001b[0m \u001b[0;34m\u001b[0m\u001b[0m\n",
      "\u001b[0;31mIndexError\u001b[0m: too many indices for array"
     ]
    }
   ],
   "source": [
    "similarity_score(pose1, pose2)"
   ]
  },
  {
   "cell_type": "markdown",
   "metadata": {
    "hidden": true
   },
   "source": [
    "#### Visualize Matching"
   ]
  },
  {
   "cell_type": "code",
   "execution_count": 23,
   "metadata": {
    "ExecuteTime": {
     "end_time": "2021-04-24T00:13:45.134140Z",
     "start_time": "2021-04-24T00:13:45.100696Z"
    },
    "hidden": true
   },
   "outputs": [],
   "source": [
    "def find_visualizable_pairs(pose1, pose2):\n",
    "    pose_len = len(pose1)\n",
    "    assert(pose_len == len(pose2))\n",
    "    \n",
    "    visualizable_pairs = []\n",
    "    for pair in POSE_PAIRS:\n",
    "        partFrom = pair[0]\n",
    "        partTo = pair[1]\n",
    "        \n",
    "        idFrom = BODY_PARTS[partFrom]\n",
    "        idTo = BODY_PARTS[partTo]\n",
    "        \n",
    "        if (idFrom < pose_len) and (idTo < pose_len):\n",
    "            visualizable_pairs.append(pair)\n",
    "            \n",
    "    return visualizable_pairs"
   ]
  },
  {
   "cell_type": "code",
   "execution_count": 24,
   "metadata": {
    "ExecuteTime": {
     "end_time": "2021-04-24T00:13:45.209343Z",
     "start_time": "2021-04-24T00:13:45.153214Z"
    },
    "hidden": true
   },
   "outputs": [],
   "source": [
    "# def visualize_output(pose1, pose2, size):\n",
    "#     assert(len(pose1) == len(pose2))\n",
    "#     pose_len = len(pose1)\n",
    "    \n",
    "#     # Initialize blank canvas\n",
    "#     canvas = np.ones(size)\n",
    "\n",
    "#     # Plot points on images\n",
    "#     for pair in POSE_PAIRS:\n",
    "#         partFrom = pair[0]\n",
    "#         partTo = pair[1]\n",
    "#         assert(partFrom in BODY_PARTS)\n",
    "#         assert(partTo in BODY_PARTS)\n",
    "\n",
    "#         idFrom = BODY_PARTS[partFrom]\n",
    "#         idTo = BODY_PARTS[partTo]\n",
    "        \n",
    "#         if idFrom >= pose_len:\n",
    "#             continue\n",
    "#         elif idTo >= pose_len:\n",
    "#             continue\n",
    "        \n",
    "#         if pose1[idFrom] and pose1[idTo]:\n",
    "#             cv.line(canvas, pose1[idFrom], pose1[idTo], (0, 255, 0), 3)\n",
    "#             cv.ellipse(canvas, pose1[idFrom], (4, 4), 0, 0, 360, (0, 255, 0), cv.FILLED)\n",
    "#             cv.ellipse(canvas, pose1[idTo], (4, 4), 0, 0, 360, (0, 255, 0), cv.FILLED)\n",
    "\n",
    "#     for pair in POSE_PAIRS:\n",
    "#         partFrom = pair[0]\n",
    "#         partTo = pair[1]\n",
    "#         assert(partFrom in BODY_PARTS)\n",
    "#         assert(partTo in BODY_PARTS)\n",
    "\n",
    "#         idFrom = BODY_PARTS[partFrom]\n",
    "#         idTo = BODY_PARTS[partTo]\n",
    "        \n",
    "#         if idFrom >= pose_len:\n",
    "#             continue\n",
    "#         elif idTo >= pose_len:\n",
    "#             continue\n",
    "        \n",
    "#         if pose2[idFrom] and pose2[idTo]:\n",
    "#             cv.line(canvas, pose2[idFrom], pose2[idTo], (255, 0, 0), 3)\n",
    "#             cv.ellipse(canvas, pose2[idFrom], (4, 4), 0, 0, 360, (255, 0, 0), cv.FILLED)\n",
    "#             cv.ellipse(canvas, pose2[idTo], (4, 4), 0, 0, 360, (255, 0, 0), cv.FILLED)\n",
    "\n",
    "#     # Visualize images\n",
    "#     fig3 = plt.figure(figsize = (10,10))\n",
    "#     plt.imshow(canvas[:,:,::-1])\n",
    "#     plt.grid(True)"
   ]
  },
  {
   "cell_type": "code",
   "execution_count": 61,
   "metadata": {
    "ExecuteTime": {
     "end_time": "2021-04-24T01:50:36.711405Z",
     "start_time": "2021-04-24T01:50:36.649332Z"
    },
    "hidden": true
   },
   "outputs": [
    {
     "ename": "AssertionError",
     "evalue": "",
     "output_type": "error",
     "traceback": [
      "\u001b[0;31m---------------------------------------------------------------------------\u001b[0m",
      "\u001b[0;31mAssertionError\u001b[0m                            Traceback (most recent call last)",
      "\u001b[0;32m<ipython-input-61-ba5bb662a26c>\u001b[0m in \u001b[0;36m<module>\u001b[0;34m\u001b[0m\n\u001b[0;32m----> 1\u001b[0;31m \u001b[0mvisualize_output\u001b[0m\u001b[0;34m(\u001b[0m\u001b[0mpose1\u001b[0m\u001b[0;34m,\u001b[0m \u001b[0mpose2\u001b[0m\u001b[0;34m,\u001b[0m \u001b[0mframe1\u001b[0m\u001b[0;34m.\u001b[0m\u001b[0mshape\u001b[0m\u001b[0;34m)\u001b[0m\u001b[0;34m\u001b[0m\u001b[0;34m\u001b[0m\u001b[0m\n\u001b[0m",
      "\u001b[0;32m<ipython-input-60-959288fcd7e6>\u001b[0m in \u001b[0;36mvisualize_output\u001b[0;34m(pose1, pose2, size)\u001b[0m\n\u001b[1;32m     11\u001b[0m         \u001b[0mpartTo\u001b[0m \u001b[0;34m=\u001b[0m \u001b[0mpair\u001b[0m\u001b[0;34m[\u001b[0m\u001b[0;36m1\u001b[0m\u001b[0;34m]\u001b[0m\u001b[0;34m\u001b[0m\u001b[0;34m\u001b[0m\u001b[0m\n\u001b[1;32m     12\u001b[0m         \u001b[0;32massert\u001b[0m\u001b[0;34m(\u001b[0m\u001b[0mpartFrom\u001b[0m \u001b[0;32min\u001b[0m \u001b[0mBODY_PARTS\u001b[0m\u001b[0;34m)\u001b[0m\u001b[0;34m\u001b[0m\u001b[0;34m\u001b[0m\u001b[0m\n\u001b[0;32m---> 13\u001b[0;31m         \u001b[0;32massert\u001b[0m\u001b[0;34m(\u001b[0m\u001b[0mpartTo\u001b[0m \u001b[0;32min\u001b[0m \u001b[0mBODY_PARTS\u001b[0m\u001b[0;34m)\u001b[0m\u001b[0;34m\u001b[0m\u001b[0;34m\u001b[0m\u001b[0m\n\u001b[0m\u001b[1;32m     14\u001b[0m \u001b[0;34m\u001b[0m\u001b[0m\n\u001b[1;32m     15\u001b[0m         \u001b[0midFrom\u001b[0m \u001b[0;34m=\u001b[0m \u001b[0mBODY_PARTS\u001b[0m\u001b[0;34m[\u001b[0m\u001b[0mpartFrom\u001b[0m\u001b[0;34m]\u001b[0m\u001b[0;34m\u001b[0m\u001b[0;34m\u001b[0m\u001b[0m\n",
      "\u001b[0;31mAssertionError\u001b[0m: "
     ]
    }
   ],
   "source": [
    "visualize_output(pose1, pose2, frame1.shape)"
   ]
  },
  {
   "cell_type": "markdown",
   "metadata": {},
   "source": [
    "## Pose Matching with Affine Transformation\n"
   ]
  },
  {
   "cell_type": "markdown",
   "metadata": {},
   "source": [
    "Another approach we tried was first finding the affine transformation to match point 1 (neck) and point 14 (the abdomen) to align the centers of the bodies"
   ]
  },
  {
   "cell_type": "code",
   "execution_count": 52,
   "metadata": {
    "ExecuteTime": {
     "end_time": "2021-04-24T07:45:51.973325Z",
     "start_time": "2021-04-24T07:45:51.965676Z"
    }
   },
   "outputs": [
    {
     "ename": "NameError",
     "evalue": "name 'find_visualizable_pairs' is not defined",
     "output_type": "error",
     "traceback": [
      "\u001b[0;31m---------------------------------------------------------------------------\u001b[0m",
      "\u001b[0;31mNameError\u001b[0m                                 Traceback (most recent call last)",
      "\u001b[0;32m<ipython-input-52-c3809824d875>\u001b[0m in \u001b[0;36m<module>\u001b[0;34m\u001b[0m\n\u001b[0;32m----> 1\u001b[0;31m \u001b[0mvisualizable_pairs\u001b[0m \u001b[0;34m=\u001b[0m \u001b[0mfind_visualizable_pairs\u001b[0m\u001b[0;34m(\u001b[0m\u001b[0mpose1\u001b[0m\u001b[0;34m,\u001b[0m \u001b[0mpose2\u001b[0m\u001b[0;34m)\u001b[0m\u001b[0;34m\u001b[0m\u001b[0;34m\u001b[0m\u001b[0m\n\u001b[0m",
      "\u001b[0;31mNameError\u001b[0m: name 'find_visualizable_pairs' is not defined"
     ]
    }
   ],
   "source": [
    "visualizable_pairs = find_visualizable_pairs(pose1, pose2)"
   ]
  },
  {
   "cell_type": "code",
   "execution_count": 26,
   "metadata": {
    "ExecuteTime": {
     "end_time": "2021-04-24T07:42:44.892445Z",
     "start_time": "2021-04-24T07:42:44.876892Z"
    }
   },
   "outputs": [
    {
     "ename": "NameError",
     "evalue": "name 'visualizable_pairs' is not defined",
     "output_type": "error",
     "traceback": [
      "\u001b[0;31m---------------------------------------------------------------------------\u001b[0m",
      "\u001b[0;31mNameError\u001b[0m                                 Traceback (most recent call last)",
      "\u001b[0;32m<ipython-input-26-83d3eb7fe07b>\u001b[0m in \u001b[0;36m<module>\u001b[0;34m\u001b[0m\n\u001b[1;32m      1\u001b[0m \u001b[0;31m#q = np.array([[pose1[1][0]],[pose1[1][1]],[pose1[14][0]],[pose1[14][1]]], np.float)\u001b[0m\u001b[0;34m\u001b[0m\u001b[0;34m\u001b[0m\u001b[0;34m\u001b[0m\u001b[0m\n\u001b[0;32m----> 2\u001b[0;31m \u001b[0mmax_idx\u001b[0m \u001b[0;34m=\u001b[0m \u001b[0mlen\u001b[0m\u001b[0;34m(\u001b[0m\u001b[0mvisualizable_pairs\u001b[0m\u001b[0;34m)\u001b[0m\u001b[0;34m\u001b[0m\u001b[0;34m\u001b[0m\u001b[0m\n\u001b[0m\u001b[1;32m      3\u001b[0m \u001b[0mq\u001b[0m \u001b[0;34m=\u001b[0m \u001b[0mnp\u001b[0m\u001b[0;34m.\u001b[0m\u001b[0marray\u001b[0m\u001b[0;34m(\u001b[0m\u001b[0;34m[\u001b[0m\u001b[0;34m[\u001b[0m\u001b[0mpose1\u001b[0m\u001b[0;34m[\u001b[0m\u001b[0;36m1\u001b[0m\u001b[0;34m]\u001b[0m\u001b[0;34m[\u001b[0m\u001b[0;36m0\u001b[0m\u001b[0;34m]\u001b[0m\u001b[0;34m]\u001b[0m\u001b[0;34m,\u001b[0m\u001b[0;34m[\u001b[0m\u001b[0mpose1\u001b[0m\u001b[0;34m[\u001b[0m\u001b[0;36m1\u001b[0m\u001b[0;34m]\u001b[0m\u001b[0;34m[\u001b[0m\u001b[0;36m1\u001b[0m\u001b[0;34m]\u001b[0m\u001b[0;34m]\u001b[0m\u001b[0;34m,\u001b[0m\u001b[0;34m[\u001b[0m\u001b[0mpose1\u001b[0m\u001b[0;34m[\u001b[0m\u001b[0mmax_idx\u001b[0m\u001b[0;34m]\u001b[0m\u001b[0;34m[\u001b[0m\u001b[0;36m0\u001b[0m\u001b[0;34m]\u001b[0m\u001b[0;34m]\u001b[0m\u001b[0;34m,\u001b[0m\u001b[0;34m[\u001b[0m\u001b[0mpose1\u001b[0m\u001b[0;34m[\u001b[0m\u001b[0mmax_idx\u001b[0m\u001b[0;34m]\u001b[0m\u001b[0;34m[\u001b[0m\u001b[0;36m1\u001b[0m\u001b[0;34m]\u001b[0m\u001b[0;34m]\u001b[0m\u001b[0;34m]\u001b[0m\u001b[0;34m,\u001b[0m \u001b[0mnp\u001b[0m\u001b[0;34m.\u001b[0m\u001b[0mfloat\u001b[0m\u001b[0;34m)\u001b[0m\u001b[0;34m\u001b[0m\u001b[0;34m\u001b[0m\u001b[0m\n\u001b[1;32m      4\u001b[0m \u001b[0;34m\u001b[0m\u001b[0m\n\u001b[1;32m      5\u001b[0m p = np.array([[pose2[1][0], pose2[1][1], 1.0, 0.0, 0.0, 0.0], \\\n",
      "\u001b[0;31mNameError\u001b[0m: name 'visualizable_pairs' is not defined"
     ]
    }
   ],
   "source": [
    "#q = np.array([[pose1[1][0]],[pose1[1][1]],[pose1[14][0]],[pose1[14][1]]], np.float)\n",
    "max_idx = len(visualizable_pairs)\n",
    "q = np.array([[pose1[1][0]],[pose1[1][1]],[pose1[max_idx][0]],[pose1[max_idx][1]]], np.float)\n",
    "\n",
    "p = np.array([[pose2[1][0], pose2[1][1], 1.0, 0.0, 0.0, 0.0], \\\n",
    "              [0.0, 0.0, 0.0, pose2[1][0], pose2[1][1], 1.0], \\\n",
    "              [pose2[max_idx][0], pose2[max_idx][1], 1.0, 0.0, 0.0, 0.0], \\\n",
    "              [0.0, 0.0, 0.0, pose2[max_idx][0], pose2[max_idx][1], 1.0]], np.float)\n",
    "\n",
    "A, res, rank, s = np.linalg.lstsq(p, q)\n",
    "\n",
    "T = np.array([[A[0], A[1], A[2]],[A[3], A[4], A[5]],[0.0, 0.0, 1.0]], np.float)"
   ]
  },
  {
   "cell_type": "markdown",
   "metadata": {},
   "source": [
    "Create the new transformed second pose"
   ]
  },
  {
   "cell_type": "code",
   "execution_count": 28,
   "metadata": {
    "ExecuteTime": {
     "end_time": "2021-04-24T00:13:46.395065Z",
     "start_time": "2021-04-24T00:13:46.382279Z"
    }
   },
   "outputs": [],
   "source": [
    "pose2_new = []\n",
    "\n",
    "for (i,j) in pose2:\n",
    "        \n",
    "        cur_pt = np.array([i,j,1])\n",
    "        transformed_pt = T.dot(cur_pt)\n",
    "        \n",
    "        transformed_pt = transformed_pt / transformed_pt[2]\n",
    "        pose2_new.append((int(transformed_pt[0]), int(transformed_pt[1])))"
   ]
  },
  {
   "cell_type": "markdown",
   "metadata": {},
   "source": [
    "#### Compare similarity between the poses"
   ]
  },
  {
   "cell_type": "code",
   "execution_count": 29,
   "metadata": {
    "ExecuteTime": {
     "end_time": "2021-04-24T00:13:46.408940Z",
     "start_time": "2021-04-24T00:13:46.399417Z"
    }
   },
   "outputs": [
    {
     "name": "stdout",
     "output_type": "stream",
     "text": [
      "Cosine Distance: 0.5705056633776034\n",
      "Weighted Distance: 0.7312858937175111\n"
     ]
    }
   ],
   "source": [
    "similarity_score(pose1, pose2_new)"
   ]
  },
  {
   "cell_type": "markdown",
   "metadata": {
    "heading_collapsed": true
   },
   "source": [
    "#### Visualize the result"
   ]
  },
  {
   "cell_type": "code",
   "execution_count": 63,
   "metadata": {
    "ExecuteTime": {
     "end_time": "2021-04-24T01:51:51.155043Z",
     "start_time": "2021-04-24T01:51:51.072011Z"
    },
    "hidden": true
   },
   "outputs": [
    {
     "ename": "ValueError",
     "evalue": "The truth value of an array with more than one element is ambiguous. Use a.any() or a.all()",
     "output_type": "error",
     "traceback": [
      "\u001b[0;31m---------------------------------------------------------------------------\u001b[0m",
      "\u001b[0;31mValueError\u001b[0m                                Traceback (most recent call last)",
      "\u001b[0;32m<ipython-input-63-1b8cfb1f4c9d>\u001b[0m in \u001b[0;36m<module>\u001b[0;34m\u001b[0m\n\u001b[0;32m----> 1\u001b[0;31m \u001b[0mvisualize_output\u001b[0m\u001b[0;34m(\u001b[0m\u001b[0mpose1\u001b[0m\u001b[0;34m,\u001b[0m \u001b[0mpose2_new\u001b[0m\u001b[0;34m,\u001b[0m \u001b[0mframe1\u001b[0m\u001b[0;34m.\u001b[0m\u001b[0mshape\u001b[0m\u001b[0;34m)\u001b[0m\u001b[0;34m\u001b[0m\u001b[0;34m\u001b[0m\u001b[0m\n\u001b[0m",
      "\u001b[0;32m<ipython-input-60-959288fcd7e6>\u001b[0m in \u001b[0;36mvisualize_output\u001b[0;34m(pose1, pose2, size)\u001b[0m\n\u001b[1;32m     40\u001b[0m             \u001b[0;32mcontinue\u001b[0m\u001b[0;34m\u001b[0m\u001b[0;34m\u001b[0m\u001b[0m\n\u001b[1;32m     41\u001b[0m \u001b[0;34m\u001b[0m\u001b[0m\n\u001b[0;32m---> 42\u001b[0;31m         \u001b[0;32mif\u001b[0m \u001b[0mpose2\u001b[0m\u001b[0;34m[\u001b[0m\u001b[0midFrom\u001b[0m\u001b[0;34m]\u001b[0m \u001b[0;32mand\u001b[0m \u001b[0mpose2\u001b[0m\u001b[0;34m[\u001b[0m\u001b[0midTo\u001b[0m\u001b[0;34m]\u001b[0m\u001b[0;34m:\u001b[0m\u001b[0;34m\u001b[0m\u001b[0;34m\u001b[0m\u001b[0m\n\u001b[0m\u001b[1;32m     43\u001b[0m             \u001b[0mcv\u001b[0m\u001b[0;34m.\u001b[0m\u001b[0mline\u001b[0m\u001b[0;34m(\u001b[0m\u001b[0mcanvas\u001b[0m\u001b[0;34m,\u001b[0m \u001b[0mpose2\u001b[0m\u001b[0;34m[\u001b[0m\u001b[0midFrom\u001b[0m\u001b[0;34m]\u001b[0m\u001b[0;34m,\u001b[0m \u001b[0mpose2\u001b[0m\u001b[0;34m[\u001b[0m\u001b[0midTo\u001b[0m\u001b[0;34m]\u001b[0m\u001b[0;34m,\u001b[0m \u001b[0;34m(\u001b[0m\u001b[0;36m255\u001b[0m\u001b[0;34m,\u001b[0m \u001b[0;36m0\u001b[0m\u001b[0;34m,\u001b[0m \u001b[0;36m0\u001b[0m\u001b[0;34m)\u001b[0m\u001b[0;34m,\u001b[0m \u001b[0;36m3\u001b[0m\u001b[0;34m)\u001b[0m\u001b[0;34m\u001b[0m\u001b[0;34m\u001b[0m\u001b[0m\n\u001b[1;32m     44\u001b[0m             \u001b[0mcv\u001b[0m\u001b[0;34m.\u001b[0m\u001b[0mellipse\u001b[0m\u001b[0;34m(\u001b[0m\u001b[0mcanvas\u001b[0m\u001b[0;34m,\u001b[0m \u001b[0mpose2\u001b[0m\u001b[0;34m[\u001b[0m\u001b[0midFrom\u001b[0m\u001b[0;34m]\u001b[0m\u001b[0;34m,\u001b[0m \u001b[0;34m(\u001b[0m\u001b[0;36m4\u001b[0m\u001b[0;34m,\u001b[0m \u001b[0;36m4\u001b[0m\u001b[0;34m)\u001b[0m\u001b[0;34m,\u001b[0m \u001b[0;36m0\u001b[0m\u001b[0;34m,\u001b[0m \u001b[0;36m0\u001b[0m\u001b[0;34m,\u001b[0m \u001b[0;36m360\u001b[0m\u001b[0;34m,\u001b[0m \u001b[0;34m(\u001b[0m\u001b[0;36m255\u001b[0m\u001b[0;34m,\u001b[0m \u001b[0;36m0\u001b[0m\u001b[0;34m,\u001b[0m \u001b[0;36m0\u001b[0m\u001b[0;34m)\u001b[0m\u001b[0;34m,\u001b[0m \u001b[0mcv\u001b[0m\u001b[0;34m.\u001b[0m\u001b[0mFILLED\u001b[0m\u001b[0;34m)\u001b[0m\u001b[0;34m\u001b[0m\u001b[0;34m\u001b[0m\u001b[0m\n",
      "\u001b[0;31mValueError\u001b[0m: The truth value of an array with more than one element is ambiguous. Use a.any() or a.all()"
     ]
    }
   ],
   "source": [
    "visualize_output(pose1, pose2_new, frame1.shape)"
   ]
  },
  {
   "cell_type": "markdown",
   "metadata": {},
   "source": [
    "## Pose Matching after Cropping and Scaling"
   ]
  },
  {
   "cell_type": "markdown",
   "metadata": {},
   "source": [
    "Crop and resize the poses to the same size and then check for similarity"
   ]
  },
  {
   "cell_type": "code",
   "execution_count": 53,
   "metadata": {
    "ExecuteTime": {
     "end_time": "2021-04-24T10:35:29.548238Z",
     "start_time": "2021-04-24T10:35:29.514325Z"
    }
   },
   "outputs": [],
   "source": [
    "def crop_and_resize_matching(pose1, pose2):\n",
    "    pose1_new = np.array(pose1)\n",
    "    pose2_new = np.array(pose2)\n",
    "\n",
    "    pose1_new[:,0] = pose1_new[:,0] - min(pose1_new[:,0])\n",
    "    pose1_new[:,1] = pose1_new[:,1] - min(pose1_new[:,1])\n",
    "\n",
    "    pose2_new[:,0] = pose2_new[:,0] - min(pose2_new[:,0])\n",
    "    pose2_new[:,1] = pose2_new[:,1] - min(pose2_new[:,1])\n",
    "    \n",
    "    resize_x = max(pose2_new[:,0])/max(pose1_new[:,0])\n",
    "    resize_y = max(pose2_new[:,1])/max(pose1_new[:,1])\n",
    "\n",
    "    pose1_new[:,0] = pose1_new[:,0] * resize_x\n",
    "    pose1_new[:,1] = pose1_new[:,1] * resize_y\n",
    "    \n",
    "    return (pose1_new, pose2_new, similarity_score(pose1_new, pose2_new))"
   ]
  },
  {
   "cell_type": "code",
   "execution_count": 54,
   "metadata": {
    "ExecuteTime": {
     "end_time": "2021-04-24T10:35:31.126016Z",
     "start_time": "2021-04-24T10:35:31.114439Z"
    }
   },
   "outputs": [
    {
     "name": "stdout",
     "output_type": "stream",
     "text": [
      "Cosine Distance: 0.9417237434827384\n",
      "Weighted Distance: 0.2527445887445887\n"
     ]
    }
   ],
   "source": [
    "pose1_new, pose2_new, score = crop_and_resize_matching(pose1, pose2)"
   ]
  },
  {
   "cell_type": "markdown",
   "metadata": {},
   "source": [
    "Compute the new similarity scores"
   ]
  },
  {
   "cell_type": "markdown",
   "metadata": {},
   "source": [
    "Visualize the result"
   ]
  },
  {
   "cell_type": "code",
   "execution_count": 55,
   "metadata": {
    "ExecuteTime": {
     "end_time": "2021-04-24T10:35:33.658480Z",
     "start_time": "2021-04-24T10:35:33.125263Z"
    },
    "scrolled": true
   },
   "outputs": [
    {
     "name": "stderr",
     "output_type": "stream",
     "text": [
      "Clipping input data to the valid range for imshow with RGB data ([0..1] for floats or [0..255] for integers).\n"
     ]
    },
    {
     "data": {
      "image/png": "[encoded data removed]",
      "text/plain": [
       "<Figure size 720x720 with 1 Axes>"
      ]
     },
     "metadata": {
      "needs_background": "light"
     },
     "output_type": "display_data"
    }
   ],
   "source": [
    "pose1_resized = tuple(map(tuple, pose1_new))\n",
    "pose2_resized = tuple(map(tuple, pose2_new))\n",
    "\n",
    "# Get dimensions of output window\n",
    "pose_1 = np.array(pose1_new)\n",
    "pose_2 = np.array(pose2_new)\n",
    "max_y = max(max(pose_1[:,0]), max(pose_2[:,0]))\n",
    "max_x = max(max(pose_1[:,1]), max(pose_2[:,1]))\n",
    "dim = (max_x, max_y, 3) \n",
    "visualize_output(pose1_resized, pose2_resized, dim)"
   ]
  },
  {
   "cell_type": "markdown",
   "metadata": {},
   "source": [
    "## Camera"
   ]
  },
  {
   "cell_type": "code",
   "execution_count": 56,
   "metadata": {
    "ExecuteTime": {
     "end_time": "2021-04-24T10:35:47.520199Z",
     "start_time": "2021-04-24T10:35:45.442423Z"
    }
   },
   "outputs": [],
   "source": [
    "expected_pose = [cv.imread(str(pic_path)) for pic_path in list(sorted(SHORT_NEXT_1FORWARD.glob(FRAME_PATTERN)))]"
   ]
  },
  {
   "cell_type": "code",
   "execution_count": 64,
   "metadata": {
    "ExecuteTime": {
     "end_time": "2021-04-24T10:39:17.569040Z",
     "start_time": "2021-04-24T10:38:22.039499Z"
    }
   },
   "outputs": [
    {
     "name": "stdout",
     "output_type": "stream",
     "text": [
      "25\n",
      "Cosine Distance: 0.9999999999999998\n",
      "Weighted Distance: 0.0\n",
      "289.8087501525879ms | 3fps | 3.0 avg fps\n",
      "25\n",
      "Cosine Distance: 0.9999999999999998\n",
      "Weighted Distance: 0.0\n",
      "67.04378128051758ms | 15fps | 9.0 avg fps\n",
      "25\n",
      "Cosine Distance: 1.0\n",
      "Weighted Distance: 0.0\n",
      "83.15253257751465ms | 12fps | 10.0 avg fps\n",
      "25\n",
      "Cosine Distance: 0.9999999999999998\n",
      "Weighted Distance: 0.0\n",
      "87.4474048614502ms | 11fps | 10.25 avg fps\n",
      "25\n",
      "Cosine Distance: 1.0000000000000002\n",
      "Weighted Distance: 0.0\n",
      "101.16100311279297ms | 10fps | 10.2 avg fps\n",
      "25\n",
      "Cosine Distance: 1.0\n",
      "Weighted Distance: 0.0\n",
      "119.4303035736084ms | 8fps | 9.833333333333334 avg fps\n",
      "25\n",
      "Cosine Distance: 1.0000000000000002\n",
      "Weighted Distance: 0.0\n",
      "140.20991325378418ms | 7fps | 9.428571428571429 avg fps\n",
      "25\n",
      "Cosine Distance: 1.0000000000000002\n",
      "Weighted Distance: 0.0\n",
      "140.40160179138184ms | 7fps | 9.125 avg fps\n",
      "25\n",
      "Cosine Distance: 1.0\n",
      "Weighted Distance: 0.0\n",
      "160.29787063598633ms | 6fps | 8.777777777777779 avg fps\n",
      "25\n",
      "Cosine Distance: 1.0\n",
      "Weighted Distance: 0.0\n",
      "148.9248275756836ms | 7fps | 8.6 avg fps\n",
      "25\n",
      "Cosine Distance: 1.0\n",
      "Weighted Distance: 0.0\n",
      "148.80847930908203ms | 7fps | 8.454545454545455 avg fps\n",
      "25\n",
      "Cosine Distance: 1.0000000000000002\n",
      "Weighted Distance: 0.0\n",
      "147.36533164978027ms | 7fps | 8.333333333333334 avg fps\n",
      "25\n",
      "Cosine Distance: 1.0\n",
      "Weighted Distance: 0.0\n",
      "127.15458869934082ms | 8fps | 8.307692307692308 avg fps\n",
      "25\n",
      "Cosine Distance: 0.9999999999999998\n",
      "Weighted Distance: 0.0\n",
      "120.09835243225098ms | 8fps | 8.285714285714286 avg fps\n",
      "25\n",
      "Cosine Distance: 1.0\n",
      "Weighted Distance: 0.0\n",
      "135.2541446685791ms | 7fps | 8.2 avg fps\n",
      "25\n",
      "Cosine Distance: 1.0\n",
      "Weighted Distance: 0.0\n",
      "125.54383277893066ms | 8fps | 8.1875 avg fps\n",
      "25\n",
      "Cosine Distance: 0.9999999999999998\n",
      "Weighted Distance: 0.0\n",
      "140.68841934204102ms | 7fps | 8.117647058823529 avg fps\n",
      "25\n",
      "Cosine Distance: 0.9999999999999998\n",
      "Weighted Distance: 0.0\n",
      "109.4977855682373ms | 9fps | 8.166666666666666 avg fps\n",
      "25\n",
      "Cosine Distance: 1.0\n",
      "Weighted Distance: 0.0\n",
      "142.1046257019043ms | 7fps | 8.105263157894736 avg fps\n",
      "25\n",
      "Cosine Distance: 1.0000000000000002\n",
      "Weighted Distance: 0.0\n",
      "120.42808532714844ms | 8fps | 8.1 avg fps\n",
      "25\n",
      "Cosine Distance: 1.0\n",
      "Weighted Distance: 0.0\n",
      "159.35063362121582ms | 6fps | 8.0 avg fps\n",
      "25\n",
      "Cosine Distance: 1.0\n",
      "Weighted Distance: 0.0\n",
      "129.82797622680664ms | 8fps | 8.0 avg fps\n",
      "25\n",
      "Cosine Distance: 1.0000000000000002\n",
      "Weighted Distance: 0.0\n",
      "171.54908180236816ms | 6fps | 7.913043478260869 avg fps\n",
      "25\n",
      "Cosine Distance: 1.0000000000000002\n",
      "Weighted Distance: 0.0\n",
      "140.25330543518066ms | 7fps | 7.875 avg fps\n",
      "25\n",
      "Cosine Distance: 1.0000000000000002\n",
      "Weighted Distance: 0.0\n",
      "128.8466453552246ms | 8fps | 7.88 avg fps\n",
      "25\n",
      "Cosine Distance: 1.0000000000000002\n",
      "Weighted Distance: 0.0\n",
      "166.02039337158203ms | 6fps | 7.8076923076923075 avg fps\n",
      "25\n",
      "Cosine Distance: 0.9999999999999998\n",
      "Weighted Distance: 0.0\n",
      "172.3957061767578ms | 6fps | 7.7407407407407405 avg fps\n",
      "25\n",
      "Cosine Distance: 1.0000000000000002\n",
      "Weighted Distance: 0.0\n",
      "155.58552742004395ms | 6fps | 7.678571428571429 avg fps\n",
      "25\n",
      "Cosine Distance: 1.0\n",
      "Weighted Distance: 0.0\n",
      "150.09570121765137ms | 7fps | 7.655172413793103 avg fps\n",
      "25\n",
      "Cosine Distance: 1.0000000000000002\n",
      "Weighted Distance: 0.0\n",
      "133.98313522338867ms | 7fps | 7.633333333333334 avg fps\n",
      "25\n",
      "Cosine Distance: 1.0\n",
      "Weighted Distance: 0.0\n",
      "137.96639442443848ms | 7fps | 7.612903225806452 avg fps\n",
      "25\n",
      "Cosine Distance: 1.0\n",
      "Weighted Distance: 0.0\n",
      "262.10713386535645ms | 4fps | 7.5 avg fps\n",
      "25\n",
      "Cosine Distance: 0.9999999999999998\n",
      "Weighted Distance: 0.0\n",
      "163.79880905151367ms | 6fps | 7.454545454545454 avg fps\n",
      "25\n",
      "Cosine Distance: 1.0000000000000002\n",
      "Weighted Distance: 0.0\n",
      "128.97801399230957ms | 8fps | 7.470588235294118 avg fps\n",
      "25\n",
      "Cosine Distance: 1.0\n",
      "Weighted Distance: 0.0\n",
      "121.38795852661133ms | 8fps | 7.485714285714286 avg fps\n",
      "25\n",
      "Cosine Distance: 0.9999999999999998\n",
      "Weighted Distance: 0.0\n",
      "138.6702060699463ms | 7fps | 7.472222222222222 avg fps\n",
      "25\n",
      "Cosine Distance: 1.0\n",
      "Weighted Distance: 0.0\n",
      "144.90580558776855ms | 7fps | 7.45945945945946 avg fps\n",
      "25\n",
      "Cosine Distance: 1.0\n",
      "Weighted Distance: 0.0\n",
      "111.99402809143066ms | 9fps | 7.5 avg fps\n",
      "25\n",
      "Cosine Distance: 1.0\n",
      "Weighted Distance: 0.0\n",
      "126.46722793579102ms | 8fps | 7.512820512820513 avg fps\n",
      "25\n",
      "Cosine Distance: 1.0\n",
      "Weighted Distance: 0.0\n",
      "126.59931182861328ms | 8fps | 7.525 avg fps\n",
      "25\n",
      "Cosine Distance: 1.0000000000000002\n",
      "Weighted Distance: 0.0\n",
      "191.9231414794922ms | 5fps | 7.463414634146342 avg fps\n",
      "25\n",
      "Cosine Distance: 1.0\n",
      "Weighted Distance: 0.0\n",
      "153.27095985412598ms | 7fps | 7.4523809523809526 avg fps\n",
      "25\n",
      "Cosine Distance: 1.0000000000000002\n",
      "Weighted Distance: 0.0\n",
      "113.15798759460449ms | 9fps | 7.488372093023256 avg fps\n",
      "25\n",
      "Cosine Distance: 1.0\n",
      "Weighted Distance: 0.0\n",
      "140.61236381530762ms | 7fps | 7.4772727272727275 avg fps\n",
      "25\n",
      "Cosine Distance: 0.9999999999999998\n",
      "Weighted Distance: 0.0\n",
      "159.00087356567383ms | 6fps | 7.444444444444445 avg fps\n",
      "25\n",
      "Cosine Distance: 1.0\n",
      "Weighted Distance: 0.0\n",
      "159.1053009033203ms | 6fps | 7.413043478260869 avg fps\n",
      "25\n",
      "Cosine Distance: 0.9999999999999999\n",
      "Weighted Distance: 0.0\n",
      "164.99710083007812ms | 6fps | 7.382978723404255 avg fps\n",
      "25\n",
      "Cosine Distance: 0.9999999999999998\n",
      "Weighted Distance: 0.0\n",
      "162.93621063232422ms | 6fps | 7.354166666666667 avg fps\n",
      "25\n",
      "Cosine Distance: 1.0\n",
      "Weighted Distance: 0.0\n",
      "152.71997451782227ms | 7fps | 7.346938775510204 avg fps\n",
      "25\n",
      "Cosine Distance: 1.0\n",
      "Weighted Distance: 0.0\n",
      "148.03481101989746ms | 7fps | 7.34 avg fps\n",
      "25\n",
      "Cosine Distance: 1.0000000000000002\n",
      "Weighted Distance: 0.0\n",
      "108.73579978942871ms | 9fps | 7.372549019607843 avg fps\n",
      "25\n",
      "Cosine Distance: 1.0000000000000002\n",
      "Weighted Distance: 0.0\n",
      "86.57455444335938ms | 12fps | 7.461538461538462 avg fps\n",
      "25\n",
      "Cosine Distance: 1.0\n",
      "Weighted Distance: 0.0\n",
      "146.2388038635254ms | 7fps | 7.452830188679245 avg fps\n",
      "25\n",
      "Cosine Distance: 0.9999999999999998\n",
      "Weighted Distance: 0.0\n",
      "167.3271656036377ms | 6fps | 7.425925925925926 avg fps\n",
      "25\n",
      "Cosine Distance: 1.0\n",
      "Weighted Distance: 0.0\n",
      "91.58968925476074ms | 11fps | 7.490909090909091 avg fps\n",
      "25\n",
      "Cosine Distance: 0.9999999999999998\n",
      "Weighted Distance: 0.0\n",
      "108.5197925567627ms | 9fps | 7.517857142857143 avg fps\n",
      "25\n",
      "Cosine Distance: 1.0\n",
      "Weighted Distance: 0.0\n",
      "160.5682373046875ms | 6fps | 7.491228070175438 avg fps\n",
      "25\n",
      "Cosine Distance: 1.0000000000000002\n",
      "Weighted Distance: 0.0\n",
      "163.02824020385742ms | 6fps | 7.4655172413793105 avg fps\n",
      "25\n",
      "Cosine Distance: 1.0\n",
      "Weighted Distance: 0.0\n",
      "157.84835815429688ms | 6fps | 7.440677966101695 avg fps\n",
      "25\n",
      "Cosine Distance: 0.9999999999999998\n",
      "Weighted Distance: 0.0\n",
      "136.15131378173828ms | 7fps | 7.433333333333334 avg fps\n",
      "25\n",
      "Cosine Distance: 1.0000000000000002\n",
      "Weighted Distance: 0.0\n",
      "115.9064769744873ms | 9fps | 7.459016393442623 avg fps\n",
      "25\n",
      "Cosine Distance: 0.9999999999999999\n",
      "Weighted Distance: 0.0\n",
      "160.73369979858398ms | 6fps | 7.435483870967742 avg fps\n",
      "25\n",
      "Cosine Distance: 1.0\n",
      "Weighted Distance: 0.0\n",
      "175.98247528076172ms | 6fps | 7.412698412698413 avg fps\n",
      "25\n",
      "Cosine Distance: 1.0\n",
      "Weighted Distance: 0.0\n",
      "153.22303771972656ms | 7fps | 7.40625 avg fps\n",
      "25\n",
      "Cosine Distance: 0.9999999999999999\n",
      "Weighted Distance: 0.0\n",
      "127.69174575805664ms | 8fps | 7.415384615384616 avg fps\n",
      "25\n",
      "Cosine Distance: 0.9999999999999999\n",
      "Weighted Distance: 0.0\n",
      "186.46955490112305ms | 5fps | 7.378787878787879 avg fps\n",
      "25\n",
      "Cosine Distance: 1.0000000000000002\n",
      "Weighted Distance: 0.0\n",
      "106.97150230407715ms | 9fps | 7.402985074626866 avg fps\n",
      "25\n",
      "Cosine Distance: 1.0\n",
      "Weighted Distance: 0.0\n",
      "109.3909740447998ms | 9fps | 7.426470588235294 avg fps\n",
      "25\n",
      "Cosine Distance: 1.0\n",
      "Weighted Distance: 0.0\n",
      "167.50454902648926ms | 6fps | 7.405797101449275 avg fps\n",
      "25\n",
      "Cosine Distance: 1.0000000000000002\n",
      "Weighted Distance: 0.0\n",
      "156.33344650268555ms | 6fps | 7.385714285714286 avg fps\n",
      "25\n",
      "Cosine Distance: 1.0000000000000002\n",
      "Weighted Distance: 0.0\n",
      "150.27260780334473ms | 7fps | 7.380281690140845 avg fps\n",
      "25\n",
      "Cosine Distance: 1.0000000000000002\n",
      "Weighted Distance: 0.0\n",
      "129.9724578857422ms | 8fps | 7.388888888888889 avg fps\n",
      "25\n",
      "Cosine Distance: 1.0\n",
      "Weighted Distance: 0.0\n",
      "168.25151443481445ms | 6fps | 7.36986301369863 avg fps\n",
      "25\n",
      "Cosine Distance: 1.0\n",
      "Weighted Distance: 0.0\n",
      "145.75505256652832ms | 7fps | 7.364864864864865 avg fps\n",
      "25\n",
      "Cosine Distance: 1.0\n",
      "Weighted Distance: 0.0\n",
      "175.7814884185791ms | 6fps | 7.346666666666667 avg fps\n",
      "25\n",
      "Cosine Distance: 1.0000000000000002\n",
      "Weighted Distance: 0.0\n",
      "171.33712768554688ms | 6fps | 7.328947368421052 avg fps\n",
      "25\n",
      "Cosine Distance: 1.0\n",
      "Weighted Distance: 0.0\n",
      "132.35211372375488ms | 8fps | 7.337662337662338 avg fps\n",
      "25\n",
      "Cosine Distance: 1.0000000000000002\n",
      "Weighted Distance: 0.0\n",
      "119.97222900390625ms | 8fps | 7.346153846153846 avg fps\n"
     ]
    },
    {
     "name": "stdout",
     "output_type": "stream",
     "text": [
      "25\n",
      "Cosine Distance: 1.0\n",
      "Weighted Distance: 0.0\n",
      "120.14460563659668ms | 8fps | 7.3544303797468356 avg fps\n",
      "25\n",
      "Cosine Distance: 1.0\n",
      "Weighted Distance: 0.0\n",
      "98.84405136108398ms | 10fps | 7.3875 avg fps\n",
      "25\n",
      "Cosine Distance: 0.9999999999999998\n",
      "Weighted Distance: 0.0\n",
      "160.89963912963867ms | 6fps | 7.37037037037037 avg fps\n",
      "25\n",
      "Cosine Distance: 1.0\n",
      "Weighted Distance: 0.0\n",
      "125.6253719329834ms | 8fps | 7.378048780487805 avg fps\n",
      "25\n",
      "Cosine Distance: 1.0000000000000002\n",
      "Weighted Distance: 0.0\n",
      "86.01212501525879ms | 12fps | 7.433734939759036 avg fps\n",
      "25\n",
      "Cosine Distance: 1.0\n",
      "Weighted Distance: 0.0\n",
      "88.85049819946289ms | 11fps | 7.476190476190476 avg fps\n",
      "25\n",
      "Cosine Distance: 0.9999999999999998\n",
      "Weighted Distance: 0.0\n",
      "62.55388259887695ms | 16fps | 7.576470588235294 avg fps\n",
      "25\n",
      "Cosine Distance: 0.9999999999999998\n",
      "Weighted Distance: 0.0\n",
      "57.51991271972656ms | 17fps | 7.686046511627907 avg fps\n",
      "25\n",
      "Cosine Distance: 0.9999999999999998\n",
      "Weighted Distance: 0.0\n",
      "63.773393630981445ms | 16fps | 7.781609195402299 avg fps\n",
      "25\n",
      "Cosine Distance: 1.0000000000000002\n",
      "Weighted Distance: 0.0\n",
      "103.53541374206543ms | 10fps | 7.806818181818182 avg fps\n",
      "25\n",
      "Cosine Distance: 1.0000000000000002\n",
      "Weighted Distance: 0.0\n",
      "141.37768745422363ms | 7fps | 7.797752808988764 avg fps\n",
      "25\n",
      "Cosine Distance: 1.0\n",
      "Weighted Distance: 0.0\n",
      "148.37646484375ms | 7fps | 7.788888888888889 avg fps\n",
      "25\n",
      "Cosine Distance: 0.9999999999999998\n",
      "Weighted Distance: 0.0\n",
      "133.9569091796875ms | 7fps | 7.78021978021978 avg fps\n",
      "25\n",
      "Cosine Distance: 1.0\n",
      "Weighted Distance: 0.0\n",
      "198.44412803649902ms | 5fps | 7.75 avg fps\n",
      "25\n",
      "Cosine Distance: 1.0\n",
      "Weighted Distance: 0.0\n",
      "183.6545467376709ms | 5fps | 7.720430107526882 avg fps\n",
      "25\n",
      "Cosine Distance: 1.0\n",
      "Weighted Distance: 0.0\n",
      "166.38708114624023ms | 6fps | 7.702127659574468 avg fps\n",
      "25\n",
      "Cosine Distance: 1.0\n",
      "Weighted Distance: 0.0\n",
      "174.5591163635254ms | 6fps | 7.684210526315789 avg fps\n",
      "25\n",
      "Cosine Distance: 0.9999999999999998\n",
      "Weighted Distance: 0.0\n",
      "194.39387321472168ms | 5fps | 7.65625 avg fps\n",
      "25\n",
      "Cosine Distance: 1.0000000000000002\n",
      "Weighted Distance: 0.0\n",
      "175.51207542419434ms | 6fps | 7.639175257731959 avg fps\n",
      "25\n",
      "Cosine Distance: 1.0\n",
      "Weighted Distance: 0.0\n",
      "179.36944961547852ms | 6fps | 7.622448979591836 avg fps\n",
      "25\n",
      "Cosine Distance: 0.9999999999999998\n",
      "Weighted Distance: 0.0\n",
      "191.50447845458984ms | 5fps | 7.595959595959596 avg fps\n",
      "25\n",
      "Cosine Distance: 1.0\n",
      "Weighted Distance: 0.0\n",
      "133.01897048950195ms | 8fps | 7.6 avg fps\n",
      "25\n",
      "Cosine Distance: 1.0000000000000002\n",
      "Weighted Distance: 0.0\n",
      "134.4778537750244ms | 7fps | 7.594059405940594 avg fps\n",
      "25\n",
      "Cosine Distance: 0.9999999999999998\n",
      "Weighted Distance: 0.0\n",
      "132.06100463867188ms | 8fps | 7.598039215686274 avg fps\n",
      "25\n",
      "Cosine Distance: 1.0000000000000002\n",
      "Weighted Distance: 0.0\n",
      "136.93666458129883ms | 7fps | 7.592233009708738 avg fps\n",
      "25\n",
      "Cosine Distance: 0.9999999999999998\n",
      "Weighted Distance: 0.0\n",
      "136.40236854553223ms | 7fps | 7.586538461538462 avg fps\n",
      "25\n",
      "Cosine Distance: 0.9999999999999998\n",
      "Weighted Distance: 0.0\n",
      "88.53363990783691ms | 11fps | 7.619047619047619 avg fps\n",
      "25\n",
      "Cosine Distance: 1.0000000000000002\n",
      "Weighted Distance: 0.0\n",
      "103.55567932128906ms | 10fps | 7.6415094339622645 avg fps\n",
      "25\n",
      "Cosine Distance: 0.9999999999999998\n",
      "Weighted Distance: 0.0\n",
      "162.41025924682617ms | 6fps | 7.626168224299065 avg fps\n",
      "25\n",
      "Cosine Distance: 0.9999999999999998\n",
      "Weighted Distance: 0.0\n",
      "116.9748306274414ms | 9fps | 7.638888888888889 avg fps\n",
      "25\n",
      "Cosine Distance: 1.0\n",
      "Weighted Distance: 0.0\n",
      "129.45246696472168ms | 8fps | 7.6422018348623855 avg fps\n",
      "25\n",
      "Cosine Distance: 0.9999999999999998\n",
      "Weighted Distance: 0.0\n",
      "112.69378662109375ms | 9fps | 7.654545454545454 avg fps\n",
      "25\n",
      "Cosine Distance: 1.0\n",
      "Weighted Distance: 0.0\n",
      "94.92158889770508ms | 11fps | 7.684684684684685 avg fps\n",
      "25\n",
      "Cosine Distance: 1.0000000000000002\n",
      "Weighted Distance: 0.0\n",
      "104.20966148376465ms | 10fps | 7.705357142857143 avg fps\n",
      "25\n",
      "Cosine Distance: 1.0\n",
      "Weighted Distance: 0.0\n",
      "154.11901473999023ms | 6fps | 7.6902654867256635 avg fps\n",
      "25\n",
      "Cosine Distance: 1.0\n",
      "Weighted Distance: 0.0\n",
      "156.82125091552734ms | 6fps | 7.675438596491228 avg fps\n",
      "25\n",
      "Cosine Distance: 1.0\n",
      "Weighted Distance: 0.0\n",
      "126.87993049621582ms | 8fps | 7.678260869565217 avg fps\n",
      "25\n",
      "Cosine Distance: 1.0000000000000002\n",
      "Weighted Distance: 0.0\n",
      "124.02868270874023ms | 8fps | 7.681034482758621 avg fps\n",
      "25\n",
      "Cosine Distance: 1.0\n",
      "Weighted Distance: 0.0\n",
      "158.18214416503906ms | 6fps | 7.666666666666667 avg fps\n",
      "25\n",
      "Cosine Distance: 1.0\n",
      "Weighted Distance: 0.0\n",
      "159.07979011535645ms | 6fps | 7.6525423728813555 avg fps\n",
      "25\n",
      "Cosine Distance: 1.0\n",
      "Weighted Distance: 0.0\n",
      "119.598388671875ms | 8fps | 7.65546218487395 avg fps\n",
      "25\n",
      "Cosine Distance: 1.0\n",
      "Weighted Distance: 0.0\n",
      "111.28878593444824ms | 9fps | 7.666666666666667 avg fps\n",
      "25\n",
      "Cosine Distance: 0.9999999999999998\n",
      "Weighted Distance: 0.0\n",
      "162.36376762390137ms | 6fps | 7.652892561983471 avg fps\n",
      "25\n",
      "Cosine Distance: 1.0000000000000002\n",
      "Weighted Distance: 0.0\n",
      "156.77857398986816ms | 6fps | 7.639344262295082 avg fps\n",
      "25\n",
      "Cosine Distance: 0.9999999999999998\n",
      "Weighted Distance: 0.0\n",
      "166.80121421813965ms | 6fps | 7.626016260162602 avg fps\n",
      "25\n",
      "Cosine Distance: 1.0\n",
      "Weighted Distance: 0.0\n",
      "160.4921817779541ms | 6fps | 7.612903225806452 avg fps\n",
      "25\n",
      "Cosine Distance: 1.0000000000000002\n",
      "Weighted Distance: 0.0\n",
      "235.32652854919434ms | 4fps | 7.584 avg fps\n",
      "25\n",
      "Cosine Distance: 1.0000000000000002\n",
      "Weighted Distance: 0.0\n",
      "149.29819107055664ms | 7fps | 7.579365079365079 avg fps\n",
      "25\n",
      "Cosine Distance: 1.0000000000000002\n",
      "Weighted Distance: 0.0\n",
      "113.03281784057617ms | 9fps | 7.590551181102362 avg fps\n",
      "25\n",
      "Cosine Distance: 1.0000000000000002\n",
      "Weighted Distance: 0.0\n",
      "154.1767120361328ms | 6fps | 7.578125 avg fps\n",
      "25\n",
      "Cosine Distance: 1.0\n",
      "Weighted Distance: 0.0\n",
      "145.08557319641113ms | 7fps | 7.573643410852713 avg fps\n",
      "25\n",
      "Cosine Distance: 1.0\n",
      "Weighted Distance: 0.0\n",
      "121.97613716125488ms | 8fps | 7.576923076923077 avg fps\n",
      "25\n",
      "Cosine Distance: 1.0000000000000002\n",
      "Weighted Distance: 0.0\n",
      "122.75099754333496ms | 8fps | 7.580152671755725 avg fps\n",
      "25\n",
      "Cosine Distance: 1.0\n",
      "Weighted Distance: 0.0\n",
      "143.9964771270752ms | 7fps | 7.575757575757576 avg fps\n",
      "25\n",
      "Cosine Distance: 1.0000000000000002\n",
      "Weighted Distance: 0.0\n",
      "121.19436264038086ms | 8fps | 7.578947368421052 avg fps\n",
      "25\n",
      "Cosine Distance: 1.0\n",
      "Weighted Distance: 0.0\n",
      "139.25600051879883ms | 7fps | 7.574626865671642 avg fps\n",
      "25\n",
      "Cosine Distance: 1.0\n",
      "Weighted Distance: 0.0\n",
      "147.45402336120605ms | 7fps | 7.57037037037037 avg fps\n",
      "25\n",
      "Cosine Distance: 0.9999999999999999\n",
      "Weighted Distance: 0.0\n",
      "126.8007755279541ms | 8fps | 7.573529411764706 avg fps\n",
      "25\n",
      "Cosine Distance: 0.9999999999999998\n",
      "Weighted Distance: 0.0\n",
      "72.3724365234375ms | 14fps | 7.62043795620438 avg fps\n",
      "25\n",
      "Cosine Distance: 0.9999999999999998\n",
      "Weighted Distance: 0.0\n",
      "98.56891632080078ms | 10fps | 7.63768115942029 avg fps\n",
      "25\n",
      "Cosine Distance: 0.9999999999999998\n",
      "Weighted Distance: 0.0\n",
      "137.33482360839844ms | 7fps | 7.633093525179856 avg fps\n",
      "25\n",
      "Cosine Distance: 1.0\n",
      "Weighted Distance: 0.0\n",
      "152.06265449523926ms | 7fps | 7.628571428571429 avg fps\n",
      "25\n",
      "Cosine Distance: 1.0\n",
      "Weighted Distance: 0.0\n",
      "186.92731857299805ms | 5fps | 7.609929078014185 avg fps\n",
      "25\n",
      "Cosine Distance: 0.9999999999999998\n",
      "Weighted Distance: 0.0\n",
      "138.45467567443848ms | 7fps | 7.605633802816901 avg fps\n",
      "25\n",
      "Cosine Distance: 1.0\n",
      "Weighted Distance: 0.0\n",
      "132.25150108337402ms | 8fps | 7.608391608391608 avg fps\n",
      "25\n",
      "Cosine Distance: 1.0\n",
      "Weighted Distance: 0.0\n",
      "169.236421585083ms | 6fps | 7.597222222222222 avg fps\n",
      "25\n",
      "Cosine Distance: 0.9999999999999998\n",
      "Weighted Distance: 0.0\n",
      "156.20660781860352ms | 6fps | 7.586206896551724 avg fps\n",
      "25\n",
      "Cosine Distance: 1.0\n",
      "Weighted Distance: 0.0\n",
      "145.86210250854492ms | 7fps | 7.582191780821918 avg fps\n",
      "25\n",
      "Cosine Distance: 1.0\n",
      "Weighted Distance: 0.0\n",
      "159.42692756652832ms | 6fps | 7.571428571428571 avg fps\n",
      "25\n",
      "Cosine Distance: 1.0\n",
      "Weighted Distance: 0.0\n",
      "165.26365280151367ms | 6fps | 7.5608108108108105 avg fps\n",
      "25\n",
      "Cosine Distance: 0.9999999999999998\n",
      "Weighted Distance: 0.0\n",
      "181.94317817687988ms | 5fps | 7.543624161073826 avg fps\n",
      "25\n",
      "Cosine Distance: 1.0000000000000002\n",
      "Weighted Distance: 0.0\n",
      "130.54418563842773ms | 8fps | 7.546666666666667 avg fps\n",
      "25\n",
      "Cosine Distance: 1.0\n",
      "Weighted Distance: 0.0\n",
      "156.60738945007324ms | 6fps | 7.5364238410596025 avg fps\n",
      "25\n",
      "Cosine Distance: 0.9999999999999999\n",
      "Weighted Distance: 0.0\n",
      "167.0844554901123ms | 6fps | 7.526315789473684 avg fps\n",
      "25\n",
      "Cosine Distance: 0.9999999999999999\n",
      "Weighted Distance: 0.0\n",
      "139.41049575805664ms | 7fps | 7.522875816993464 avg fps\n"
     ]
    },
    {
     "name": "stdout",
     "output_type": "stream",
     "text": [
      "25\n",
      "Cosine Distance: 1.0\n",
      "Weighted Distance: 0.0\n",
      "120.48578262329102ms | 8fps | 7.525974025974026 avg fps\n",
      "25\n",
      "Cosine Distance: 1.0\n",
      "Weighted Distance: 0.0\n",
      "121.57297134399414ms | 8fps | 7.529032258064516 avg fps\n",
      "25\n",
      "Cosine Distance: 1.0000000000000002\n",
      "Weighted Distance: 0.0\n",
      "120.45145034790039ms | 8fps | 7.532051282051282 avg fps\n",
      "25\n",
      "Cosine Distance: 1.0000000000000002\n",
      "Weighted Distance: 0.0\n",
      "163.31720352172852ms | 6fps | 7.522292993630574 avg fps\n",
      "25\n",
      "Cosine Distance: 1.0\n",
      "Weighted Distance: 0.0\n",
      "150.66957473754883ms | 7fps | 7.518987341772152 avg fps\n",
      "25\n",
      "Cosine Distance: 1.0\n",
      "Weighted Distance: 0.0\n",
      "94.58088874816895ms | 11fps | 7.540880503144654 avg fps\n",
      "25\n",
      "Cosine Distance: 1.0000000000000002\n",
      "Weighted Distance: 0.0\n",
      "79.04982566833496ms | 13fps | 7.575 avg fps\n",
      "25\n",
      "Cosine Distance: 1.0\n",
      "Weighted Distance: 0.0\n",
      "135.03265380859375ms | 7fps | 7.571428571428571 avg fps\n",
      "25\n",
      "Cosine Distance: 1.0000000000000002\n",
      "Weighted Distance: 0.0\n",
      "108.12664031982422ms | 9fps | 7.580246913580247 avg fps\n",
      "25\n",
      "Cosine Distance: 1.0\n",
      "Weighted Distance: 0.0\n",
      "61.03658676147461ms | 16fps | 7.631901840490798 avg fps\n",
      "25\n",
      "Cosine Distance: 1.0000000000000002\n",
      "Weighted Distance: 0.0\n",
      "89.1425609588623ms | 11fps | 7.652439024390244 avg fps\n",
      "25\n",
      "Cosine Distance: 1.0\n",
      "Weighted Distance: 0.0\n",
      "99.98083114624023ms | 10fps | 7.666666666666667 avg fps\n",
      "25\n",
      "Cosine Distance: 0.9999999999999998\n",
      "Weighted Distance: 0.0\n",
      "105.78274726867676ms | 9fps | 7.674698795180723 avg fps\n",
      "25\n",
      "Cosine Distance: 1.0\n",
      "Weighted Distance: 0.0\n",
      "105.17525672912598ms | 10fps | 7.688622754491018 avg fps\n",
      "25\n",
      "Cosine Distance: 1.0\n",
      "Weighted Distance: 0.0\n",
      "137.35222816467285ms | 7fps | 7.684523809523809 avg fps\n",
      "25\n",
      "Cosine Distance: 0.9999999999999998\n",
      "Weighted Distance: 0.0\n",
      "144.50335502624512ms | 7fps | 7.680473372781065 avg fps\n",
      "25\n",
      "Cosine Distance: 1.0000000000000002\n",
      "Weighted Distance: 0.0\n",
      "159.12151336669922ms | 6fps | 7.670588235294118 avg fps\n",
      "25\n",
      "Cosine Distance: 1.0\n",
      "Weighted Distance: 0.0\n",
      "125.50878524780273ms | 8fps | 7.6725146198830405 avg fps\n",
      "25\n",
      "Cosine Distance: 0.9999999999999998\n",
      "Weighted Distance: 0.0\n",
      "158.8907241821289ms | 6fps | 7.662790697674419 avg fps\n",
      "25\n",
      "Cosine Distance: 0.9999999999999998\n",
      "Weighted Distance: 0.0\n",
      "176.15175247192383ms | 6fps | 7.6531791907514455 avg fps\n",
      "25\n",
      "Cosine Distance: 1.0\n",
      "Weighted Distance: 0.0\n",
      "191.54763221740723ms | 5fps | 7.637931034482759 avg fps\n",
      "25\n",
      "Cosine Distance: 0.9999999999999998\n",
      "Weighted Distance: 0.0\n",
      "163.67816925048828ms | 6fps | 7.628571428571429 avg fps\n",
      "25\n",
      "Cosine Distance: 1.0\n",
      "Weighted Distance: 0.0\n",
      "150.66790580749512ms | 7fps | 7.625 avg fps\n",
      "25\n",
      "Cosine Distance: 0.9999999999999998\n",
      "Weighted Distance: 0.0\n",
      "134.50384140014648ms | 7fps | 7.621468926553672 avg fps\n",
      "25\n",
      "Cosine Distance: 1.0\n",
      "Weighted Distance: 0.0\n",
      "116.69063568115234ms | 9fps | 7.629213483146067 avg fps\n",
      "25\n",
      "Cosine Distance: 1.0\n",
      "Weighted Distance: 0.0\n",
      "182.5103759765625ms | 5fps | 7.614525139664805 avg fps\n",
      "25\n",
      "Cosine Distance: 1.0\n",
      "Weighted Distance: 0.0\n",
      "179.0306568145752ms | 6fps | 7.605555555555555 avg fps\n",
      "25\n",
      "Cosine Distance: 1.0000000000000002\n",
      "Weighted Distance: 0.0\n",
      "146.99482917785645ms | 7fps | 7.602209944751381 avg fps\n",
      "25\n",
      "Cosine Distance: 1.0000000000000002\n",
      "Weighted Distance: 0.0\n",
      "135.3626251220703ms | 7fps | 7.5989010989010985 avg fps\n",
      "25\n",
      "Cosine Distance: 1.0\n",
      "Weighted Distance: 0.0\n",
      "145.0362205505371ms | 7fps | 7.595628415300546 avg fps\n",
      "25\n",
      "Cosine Distance: 1.0\n",
      "Weighted Distance: 0.0\n",
      "161.20386123657227ms | 6fps | 7.586956521739131 avg fps\n",
      "25\n",
      "Cosine Distance: 1.0\n",
      "Weighted Distance: 0.0\n",
      "103.55281829833984ms | 10fps | 7.6 avg fps\n",
      "25\n",
      "Cosine Distance: 1.0\n",
      "Weighted Distance: 0.0\n",
      "84.03134346008301ms | 12fps | 7.623655913978495 avg fps\n",
      "25\n",
      "Cosine Distance: 0.9999999999999999\n",
      "Weighted Distance: 0.0\n",
      "109.36951637268066ms | 9fps | 7.6310160427807485 avg fps\n",
      "25\n",
      "Cosine Distance: 0.9999999999999998\n",
      "Weighted Distance: 0.0\n",
      "91.39132499694824ms | 11fps | 7.648936170212766 avg fps\n",
      "25\n",
      "Cosine Distance: 1.0000000000000002\n",
      "Weighted Distance: 0.0\n",
      "69.93484497070312ms | 14fps | 7.682539682539683 avg fps\n",
      "25\n",
      "Cosine Distance: 1.0000000000000002\n",
      "Weighted Distance: 0.0\n",
      "62.67714500427246ms | 16fps | 7.726315789473684 avg fps\n",
      "25\n",
      "Cosine Distance: 0.9999999999999999\n",
      "Weighted Distance: 0.0\n",
      "84.98716354370117ms | 12fps | 7.7486910994764395 avg fps\n",
      "25\n",
      "Cosine Distance: 0.9999999999999998\n",
      "Weighted Distance: 0.0\n",
      "79.13374900817871ms | 13fps | 7.776041666666667 avg fps\n",
      "25\n",
      "Cosine Distance: 0.9999999999999998\n",
      "Weighted Distance: 0.0\n",
      "85.0059986114502ms | 12fps | 7.7979274611398965 avg fps\n",
      "25\n",
      "Cosine Distance: 0.9999999999999998\n",
      "Weighted Distance: 0.0\n",
      "125.83422660827637ms | 8fps | 7.798969072164948 avg fps\n",
      "25\n",
      "Cosine Distance: 1.0\n",
      "Weighted Distance: 0.0\n",
      "167.99545288085938ms | 6fps | 7.78974358974359 avg fps\n",
      "25\n",
      "Cosine Distance: 1.0\n",
      "Weighted Distance: 0.0\n",
      "114.8383617401123ms | 9fps | 7.795918367346939 avg fps\n",
      "25\n",
      "Cosine Distance: 0.9999999999999998\n",
      "Weighted Distance: 0.0\n",
      "132.2309970855713ms | 8fps | 7.7969543147208125 avg fps\n",
      "25\n",
      "Cosine Distance: 1.0\n",
      "Weighted Distance: 0.0\n",
      "131.70504570007324ms | 8fps | 7.797979797979798 avg fps\n",
      "25\n",
      "Cosine Distance: 1.0\n",
      "Weighted Distance: 0.0\n",
      "141.83950424194336ms | 7fps | 7.793969849246231 avg fps\n",
      "25\n",
      "Cosine Distance: 1.0000000000000002\n",
      "Weighted Distance: 0.0\n",
      "193.62878799438477ms | 5fps | 7.78 avg fps\n",
      "25\n",
      "Cosine Distance: 1.0000000000000002\n",
      "Weighted Distance: 0.0\n",
      "147.5684642791748ms | 7fps | 7.776119402985074 avg fps\n",
      "25\n",
      "Cosine Distance: 1.0\n",
      "Weighted Distance: 0.0\n",
      "110.45956611633301ms | 9fps | 7.782178217821782 avg fps\n",
      "25\n",
      "Cosine Distance: 1.0\n",
      "Weighted Distance: 0.0\n",
      "155.4267406463623ms | 6fps | 7.773399014778325 avg fps\n",
      "25\n",
      "Cosine Distance: 1.0\n",
      "Weighted Distance: 0.0\n",
      "177.22129821777344ms | 6fps | 7.764705882352941 avg fps\n",
      "25\n",
      "Cosine Distance: 1.0000000000000002\n",
      "Weighted Distance: 0.0\n",
      "158.84137153625488ms | 6fps | 7.7560975609756095 avg fps\n",
      "25\n",
      "Cosine Distance: 0.9999999999999998\n",
      "Weighted Distance: 0.0\n",
      "171.08631134033203ms | 6fps | 7.747572815533981 avg fps\n",
      "25\n",
      "Cosine Distance: 1.0\n",
      "Weighted Distance: 0.0\n",
      "156.4044952392578ms | 6fps | 7.739130434782608 avg fps\n",
      "25\n",
      "Cosine Distance: 1.0\n",
      "Weighted Distance: 0.0\n",
      "169.20137405395508ms | 6fps | 7.730769230769231 avg fps\n",
      "25\n",
      "Cosine Distance: 1.0\n",
      "Weighted Distance: 0.0\n",
      "142.85659790039062ms | 7fps | 7.7272727272727275 avg fps\n",
      "25\n",
      "Cosine Distance: 1.0\n",
      "Weighted Distance: 0.0\n",
      "140.96713066101074ms | 7fps | 7.723809523809524 avg fps\n",
      "25\n",
      "Cosine Distance: 0.9999999999999998\n",
      "Weighted Distance: 0.0\n",
      "164.73650932312012ms | 6fps | 7.7156398104265405 avg fps\n",
      "25\n",
      "Cosine Distance: 1.0000000000000002\n",
      "Weighted Distance: 0.0\n",
      "178.57074737548828ms | 6fps | 7.7075471698113205 avg fps\n",
      "25\n",
      "Cosine Distance: 0.9999999999999998\n",
      "Weighted Distance: 0.0\n",
      "150.09331703186035ms | 7fps | 7.704225352112676 avg fps\n",
      "25\n",
      "Cosine Distance: 1.0\n",
      "Weighted Distance: 0.0\n",
      "141.55936241149902ms | 7fps | 7.700934579439252 avg fps\n",
      "25\n",
      "Cosine Distance: 1.0\n",
      "Weighted Distance: 0.0\n",
      "125.66351890563965ms | 8fps | 7.702325581395349 avg fps\n",
      "25\n",
      "Cosine Distance: 0.9999999999999998\n",
      "Weighted Distance: 0.0\n",
      "102.203369140625ms | 10fps | 7.712962962962963 avg fps\n",
      "25\n",
      "Cosine Distance: 1.0000000000000002\n",
      "Weighted Distance: 0.0\n",
      "92.83161163330078ms | 11fps | 7.728110599078341 avg fps\n",
      "25\n",
      "Cosine Distance: 1.0000000000000002\n",
      "Weighted Distance: 0.0\n",
      "127.19893455505371ms | 8fps | 7.729357798165138 avg fps\n",
      "25\n",
      "Cosine Distance: 1.0\n",
      "Weighted Distance: 0.0\n",
      "114.69626426696777ms | 9fps | 7.735159817351598 avg fps\n",
      "25\n",
      "Cosine Distance: 1.0\n",
      "Weighted Distance: 0.0\n",
      "67.01040267944336ms | 15fps | 7.7681818181818185 avg fps\n",
      "25\n",
      "Cosine Distance: 1.0\n",
      "Weighted Distance: 0.0\n",
      "65.45519828796387ms | 15fps | 7.800904977375565 avg fps\n",
      "25\n",
      "Cosine Distance: 0.9999999999999998\n",
      "Weighted Distance: 0.0\n",
      "66.21932983398438ms | 15fps | 7.833333333333333 avg fps\n",
      "25\n",
      "Cosine Distance: 1.0000000000000002\n",
      "Weighted Distance: 0.0\n",
      "66.99681282043457ms | 15fps | 7.865470852017937 avg fps\n",
      "25\n",
      "Cosine Distance: 0.9999999999999999\n",
      "Weighted Distance: 0.0\n",
      "85.93559265136719ms | 12fps | 7.883928571428571 avg fps\n",
      "25\n",
      "Cosine Distance: 1.0\n",
      "Weighted Distance: 0.0\n",
      "86.09914779663086ms | 12fps | 7.902222222222222 avg fps\n",
      "25\n",
      "Cosine Distance: 1.0\n",
      "Weighted Distance: 0.0\n",
      "72.80993461608887ms | 14fps | 7.929203539823009 avg fps\n",
      "25\n",
      "Cosine Distance: 1.0\n",
      "Weighted Distance: 0.0\n",
      "132.88331031799316ms | 8fps | 7.929515418502203 avg fps\n",
      "25\n",
      "Cosine Distance: 1.0000000000000002\n",
      "Weighted Distance: 0.0\n",
      "160.9663963317871ms | 6fps | 7.921052631578948 avg fps\n"
     ]
    },
    {
     "name": "stdout",
     "output_type": "stream",
     "text": [
      "25\n",
      "Cosine Distance: 1.0000000000000002\n",
      "Weighted Distance: 0.0\n",
      "161.46516799926758ms | 6fps | 7.9126637554585155 avg fps\n",
      "25\n",
      "Cosine Distance: 0.9999999999999999\n",
      "Weighted Distance: 0.0\n",
      "166.49508476257324ms | 6fps | 7.904347826086957 avg fps\n",
      "25\n",
      "Cosine Distance: 1.0000000000000002\n",
      "Weighted Distance: 0.0\n",
      "115.48161506652832ms | 9fps | 7.909090909090909 avg fps\n",
      "25\n",
      "Cosine Distance: 1.0000000000000002\n",
      "Weighted Distance: 0.0\n",
      "130.69868087768555ms | 8fps | 7.9094827586206895 avg fps\n",
      "25\n",
      "Cosine Distance: 1.0\n",
      "Weighted Distance: 0.0\n",
      "137.4211311340332ms | 7fps | 7.905579399141631 avg fps\n",
      "25\n",
      "Cosine Distance: 1.0\n",
      "Weighted Distance: 0.0\n",
      "152.65679359436035ms | 7fps | 7.901709401709402 avg fps\n",
      "25\n",
      "Cosine Distance: 1.0\n",
      "Weighted Distance: 0.0\n",
      "179.45480346679688ms | 6fps | 7.8936170212765955 avg fps\n",
      "25\n",
      "Cosine Distance: 0.9999999999999998\n",
      "Weighted Distance: 0.0\n",
      "181.1819076538086ms | 6fps | 7.885593220338983 avg fps\n",
      "25\n",
      "Cosine Distance: 1.0000000000000002\n",
      "Weighted Distance: 0.0\n",
      "130.9671401977539ms | 8fps | 7.886075949367089 avg fps\n",
      "25\n",
      "Cosine Distance: 1.0\n",
      "Weighted Distance: 0.0\n",
      "113.4645938873291ms | 9fps | 7.890756302521009 avg fps\n",
      "25\n",
      "Cosine Distance: 1.0\n",
      "Weighted Distance: 0.0\n",
      "119.44031715393066ms | 8fps | 7.891213389121339 avg fps\n",
      "25\n",
      "Cosine Distance: 1.0\n",
      "Weighted Distance: 0.0\n",
      "101.19223594665527ms | 10fps | 7.9 avg fps\n",
      "25\n",
      "Cosine Distance: 1.0\n",
      "Weighted Distance: 0.0\n",
      "103.03759574890137ms | 10fps | 7.908713692946058 avg fps\n",
      "25\n",
      "Cosine Distance: 1.0000000000000002\n",
      "Weighted Distance: 0.0\n",
      "126.99127197265625ms | 8fps | 7.909090909090909 avg fps\n",
      "25\n",
      "Cosine Distance: 1.0000000000000002\n",
      "Weighted Distance: 0.0\n",
      "151.1516571044922ms | 7fps | 7.905349794238683 avg fps\n",
      "25\n",
      "Cosine Distance: 1.0000000000000002\n",
      "Weighted Distance: 0.0\n",
      "148.7579345703125ms | 7fps | 7.901639344262295 avg fps\n",
      "25\n",
      "Cosine Distance: 1.0000000000000002\n",
      "Weighted Distance: 0.0\n",
      "117.28262901306152ms | 9fps | 7.906122448979592 avg fps\n",
      "25\n",
      "Cosine Distance: 1.0000000000000002\n",
      "Weighted Distance: 0.0\n",
      "146.3019847869873ms | 7fps | 7.902439024390244 avg fps\n",
      "25\n",
      "Cosine Distance: 1.0\n",
      "Weighted Distance: 0.0\n",
      "156.0990810394287ms | 6fps | 7.894736842105263 avg fps\n",
      "25\n",
      "Cosine Distance: 1.0\n",
      "Weighted Distance: 0.0\n",
      "77.7750015258789ms | 13fps | 7.915322580645161 avg fps\n",
      "25\n",
      "Cosine Distance: 1.0\n",
      "Weighted Distance: 0.0\n",
      "96.41599655151367ms | 10fps | 7.923694779116466 avg fps\n",
      "25\n",
      "Cosine Distance: 1.0\n",
      "Weighted Distance: 0.0\n",
      "129.55117225646973ms | 8fps | 7.924 avg fps\n",
      "25\n",
      "Cosine Distance: 0.9999999999999999\n",
      "Weighted Distance: 0.0\n",
      "117.523193359375ms | 9fps | 7.9282868525896415 avg fps\n",
      "25\n",
      "Cosine Distance: 1.0000000000000002\n",
      "Weighted Distance: 0.0\n",
      "101.29117965698242ms | 10fps | 7.936507936507937 avg fps\n",
      "25\n",
      "Cosine Distance: 1.0000000000000002\n",
      "Weighted Distance: 0.0\n",
      "150.17390251159668ms | 7fps | 7.932806324110672 avg fps\n",
      "25\n",
      "Cosine Distance: 1.0\n",
      "Weighted Distance: 0.0\n",
      "155.88927268981934ms | 6fps | 7.925196850393701 avg fps\n",
      "25\n",
      "Cosine Distance: 0.9999999999999998\n",
      "Weighted Distance: 0.0\n",
      "133.1636905670166ms | 8fps | 7.925490196078432 avg fps\n",
      "25\n",
      "Cosine Distance: 0.9999999999999998\n",
      "Weighted Distance: 0.0\n",
      "139.8303508758545ms | 7fps | 7.921875 avg fps\n",
      "25\n",
      "Cosine Distance: 0.9999999999999998\n",
      "Weighted Distance: 0.0\n",
      "153.7163257598877ms | 7fps | 7.918287937743191 avg fps\n",
      "25\n",
      "Cosine Distance: 1.0\n",
      "Weighted Distance: 0.0\n",
      "150.5124568939209ms | 7fps | 7.9147286821705425 avg fps\n",
      "25\n",
      "Cosine Distance: 1.0000000000000002\n",
      "Weighted Distance: 0.0\n",
      "172.20306396484375ms | 6fps | 7.9073359073359075 avg fps\n",
      "25\n",
      "Cosine Distance: 0.9999999999999999\n",
      "Weighted Distance: 0.0\n",
      "141.1454677581787ms | 7fps | 7.903846153846154 avg fps\n",
      "25\n",
      "Cosine Distance: 1.0\n",
      "Weighted Distance: 0.0\n",
      "149.95455741882324ms | 7fps | 7.900383141762452 avg fps\n",
      "25\n",
      "Cosine Distance: 1.0\n",
      "Weighted Distance: 0.0\n",
      "144.10686492919922ms | 7fps | 7.896946564885496 avg fps\n",
      "25\n",
      "Cosine Distance: 1.0\n",
      "Weighted Distance: 0.0\n",
      "102.264404296875ms | 10fps | 7.904942965779468 avg fps\n",
      "25\n",
      "Cosine Distance: 0.9999999999999999\n",
      "Weighted Distance: 0.0\n",
      "131.90460205078125ms | 8fps | 7.90530303030303 avg fps\n",
      "25\n",
      "Cosine Distance: 1.0\n",
      "Weighted Distance: 0.0\n",
      "169.30532455444336ms | 6fps | 7.89811320754717 avg fps\n",
      "25\n",
      "Cosine Distance: 0.9999999999999998\n",
      "Weighted Distance: 0.0\n",
      "149.83034133911133ms | 7fps | 7.894736842105263 avg fps\n",
      "25\n",
      "Cosine Distance: 0.9999999999999998\n",
      "Weighted Distance: 0.0\n",
      "178.023099899292ms | 6fps | 7.887640449438202 avg fps\n",
      "25\n",
      "Cosine Distance: 1.0\n",
      "Weighted Distance: 0.0\n",
      "157.5937271118164ms | 6fps | 7.880597014925373 avg fps\n",
      "25\n",
      "Cosine Distance: 0.9999999999999998\n",
      "Weighted Distance: 0.0\n",
      "129.899263381958ms | 8fps | 7.881040892193308 avg fps\n",
      "25\n",
      "Cosine Distance: 1.0\n",
      "Weighted Distance: 0.0\n",
      "127.93827056884766ms | 8fps | 7.881481481481481 avg fps\n",
      "25\n",
      "Cosine Distance: 1.0\n",
      "Weighted Distance: 0.0\n",
      "123.14128875732422ms | 8fps | 7.881918819188192 avg fps\n",
      "25\n",
      "Cosine Distance: 1.0\n",
      "Weighted Distance: 0.0\n",
      "91.41993522644043ms | 11fps | 7.893382352941177 avg fps\n",
      "25\n",
      "Cosine Distance: 1.0\n",
      "Weighted Distance: 0.0\n",
      "86.7300033569336ms | 12fps | 7.908424908424909 avg fps\n",
      "25\n",
      "Cosine Distance: 1.0\n",
      "Weighted Distance: 0.0\n",
      "120.56851387023926ms | 8fps | 7.908759124087592 avg fps\n",
      "25\n",
      "Cosine Distance: 1.0\n",
      "Weighted Distance: 0.0\n",
      "80.92069625854492ms | 12fps | 7.923636363636364 avg fps\n",
      "25\n",
      "Cosine Distance: 0.9999999999999999\n",
      "Weighted Distance: 0.0\n",
      "69.78344917297363ms | 14fps | 7.945652173913044 avg fps\n",
      "25\n",
      "Cosine Distance: 1.0\n",
      "Weighted Distance: 0.0\n",
      "60.69016456604004ms | 16fps | 7.974729241877256 avg fps\n",
      "25\n",
      "Cosine Distance: 0.9999999999999998\n",
      "Weighted Distance: 0.0\n",
      "114.70198631286621ms | 9fps | 7.9784172661870505 avg fps\n",
      "25\n",
      "Cosine Distance: 1.0000000000000002\n",
      "Weighted Distance: 0.0\n",
      "138.08226585388184ms | 7fps | 7.974910394265233 avg fps\n",
      "25\n",
      "Cosine Distance: 1.0\n",
      "Weighted Distance: 0.0\n",
      "134.96136665344238ms | 7fps | 7.9714285714285715 avg fps\n",
      "25\n",
      "Cosine Distance: 1.0000000000000002\n",
      "Weighted Distance: 0.0\n",
      "147.27401733398438ms | 7fps | 7.967971530249111 avg fps\n",
      "25\n",
      "Cosine Distance: 1.0\n",
      "Weighted Distance: 0.0\n",
      "148.85663986206055ms | 7fps | 7.964539007092198 avg fps\n",
      "25\n",
      "Cosine Distance: 1.0\n",
      "Weighted Distance: 0.0\n",
      "146.69322967529297ms | 7fps | 7.96113074204947 avg fps\n",
      "25\n",
      "Cosine Distance: 1.0\n",
      "Weighted Distance: 0.0\n",
      "113.85536193847656ms | 9fps | 7.964788732394366 avg fps\n",
      "25\n",
      "Cosine Distance: 1.0\n",
      "Weighted Distance: 0.0\n",
      "149.64723587036133ms | 7fps | 7.96140350877193 avg fps\n",
      "25\n",
      "Cosine Distance: 1.0\n",
      "Weighted Distance: 0.0\n",
      "145.97654342651367ms | 7fps | 7.958041958041958 avg fps\n",
      "25\n",
      "Cosine Distance: 0.9999999999999999\n",
      "Weighted Distance: 0.0\n",
      "176.2068271636963ms | 6fps | 7.951219512195122 avg fps\n",
      "25\n",
      "Cosine Distance: 1.0000000000000002\n",
      "Weighted Distance: 0.0\n",
      "169.4960594177246ms | 6fps | 7.944444444444445 avg fps\n",
      "25\n",
      "Cosine Distance: 0.9999999999999999\n",
      "Weighted Distance: 0.0\n",
      "165.21763801574707ms | 6fps | 7.937716262975779 avg fps\n",
      "25\n",
      "Cosine Distance: 0.9999999999999999\n",
      "Weighted Distance: 0.0\n",
      "154.48427200317383ms | 6fps | 7.931034482758621 avg fps\n",
      "25\n",
      "Cosine Distance: 0.9999999999999999\n",
      "Weighted Distance: 0.0\n",
      "170.48192024230957ms | 6fps | 7.9243986254295535 avg fps\n",
      "25\n",
      "Cosine Distance: 1.0\n",
      "Weighted Distance: 0.0\n",
      "143.72897148132324ms | 7fps | 7.921232876712328 avg fps\n",
      "25\n",
      "Cosine Distance: 1.0000000000000002\n",
      "Weighted Distance: 0.0\n",
      "120.69940567016602ms | 8fps | 7.921501706484642 avg fps\n",
      "25\n",
      "Cosine Distance: 1.0000000000000002\n",
      "Weighted Distance: 0.0\n",
      "147.9969024658203ms | 7fps | 7.918367346938775 avg fps\n",
      "25\n",
      "Cosine Distance: 0.9999999999999998\n",
      "Weighted Distance: 0.0\n",
      "169.32177543640137ms | 6fps | 7.911864406779661 avg fps\n",
      "25\n",
      "Cosine Distance: 1.0\n",
      "Weighted Distance: 0.0\n",
      "135.3602409362793ms | 7fps | 7.908783783783784 avg fps\n",
      "25\n",
      "Cosine Distance: 1.0000000000000002\n",
      "Weighted Distance: 0.0\n",
      "182.10411071777344ms | 5fps | 7.898989898989899 avg fps\n",
      "25\n",
      "Cosine Distance: 1.0\n",
      "Weighted Distance: 0.0\n",
      "132.63678550720215ms | 8fps | 7.899328859060403 avg fps\n",
      "25\n",
      "Cosine Distance: 0.9999999999999998\n",
      "Weighted Distance: 0.0\n",
      "121.49214744567871ms | 8fps | 7.8996655518394645 avg fps\n",
      "25\n",
      "Cosine Distance: 0.9999999999999998\n",
      "Weighted Distance: 0.0\n",
      "152.23145484924316ms | 7fps | 7.8966666666666665 avg fps\n",
      "25\n",
      "Cosine Distance: 0.9999999999999998\n",
      "Weighted Distance: 0.0\n",
      "123.47698211669922ms | 8fps | 7.897009966777409 avg fps\n",
      "25\n",
      "Cosine Distance: 1.0\n",
      "Weighted Distance: 0.0\n",
      "154.35433387756348ms | 6fps | 7.8907284768211925 avg fps\n",
      "25\n",
      "Cosine Distance: 1.0\n",
      "Weighted Distance: 0.0\n",
      "161.149263381958ms | 6fps | 7.884488448844884 avg fps\n",
      "25\n",
      "Cosine Distance: 1.0000000000000002\n",
      "Weighted Distance: 0.0\n",
      "98.13261032104492ms | 10fps | 7.891447368421052 avg fps\n",
      "25\n",
      "Cosine Distance: 0.9999999999999998\n",
      "Weighted Distance: 0.0\n",
      "66.7266845703125ms | 15fps | 7.914754098360656 avg fps\n"
     ]
    },
    {
     "name": "stdout",
     "output_type": "stream",
     "text": [
      "25\n",
      "Cosine Distance: 0.9999999999999998\n",
      "Weighted Distance: 0.0\n",
      "84.90204811096191ms | 12fps | 7.928104575163399 avg fps\n",
      "25\n",
      "Cosine Distance: 1.0\n",
      "Weighted Distance: 0.0\n",
      "116.49227142333984ms | 9fps | 7.931596091205212 avg fps\n",
      "25\n",
      "Cosine Distance: 1.0\n",
      "Weighted Distance: 0.0\n",
      "131.89983367919922ms | 8fps | 7.931818181818182 avg fps\n",
      "25\n",
      "Cosine Distance: 1.0\n",
      "Weighted Distance: 0.0\n",
      "137.7418041229248ms | 7fps | 7.9288025889967635 avg fps\n",
      "25\n",
      "Cosine Distance: 1.0\n",
      "Weighted Distance: 0.0\n",
      "126.71685218811035ms | 8fps | 7.929032258064516 avg fps\n",
      "25\n",
      "Cosine Distance: 1.0000000000000002\n",
      "Weighted Distance: 0.0\n",
      "147.28116989135742ms | 7fps | 7.92604501607717 avg fps\n",
      "25\n",
      "Cosine Distance: 1.0\n",
      "Weighted Distance: 0.0\n",
      "156.5847396850586ms | 6fps | 7.919871794871795 avg fps\n",
      "25\n",
      "Cosine Distance: 1.0\n",
      "Weighted Distance: 0.0\n",
      "180.29069900512695ms | 6fps | 7.913738019169329 avg fps\n",
      "25\n",
      "Cosine Distance: 0.9999999999999998\n",
      "Weighted Distance: 0.0\n",
      "132.8568458557129ms | 8fps | 7.914012738853503 avg fps\n",
      "25\n",
      "Cosine Distance: 1.0000000000000002\n",
      "Weighted Distance: 0.0\n",
      "142.32969284057617ms | 7fps | 7.911111111111111 avg fps\n",
      "25\n",
      "Cosine Distance: 0.9999999999999998\n",
      "Weighted Distance: 0.0\n",
      "164.2744541168213ms | 6fps | 7.905063291139241 avg fps\n",
      "25\n",
      "Cosine Distance: 1.0\n",
      "Weighted Distance: 0.0\n",
      "160.60400009155273ms | 6fps | 7.899053627760252 avg fps\n",
      "25\n",
      "Cosine Distance: 1.0\n",
      "Weighted Distance: 0.0\n",
      "149.064302444458ms | 7fps | 7.89622641509434 avg fps\n",
      "25\n",
      "Cosine Distance: 1.0\n",
      "Weighted Distance: 0.0\n",
      "143.43523979187012ms | 7fps | 7.893416927899686 avg fps\n",
      "25\n",
      "Cosine Distance: 1.0\n",
      "Weighted Distance: 0.0\n",
      "171.05746269226074ms | 6fps | 7.8875 avg fps\n",
      "25\n",
      "Cosine Distance: 1.0\n",
      "Weighted Distance: 0.0\n",
      "144.4377899169922ms | 7fps | 7.8847352024922115 avg fps\n",
      "25\n",
      "Cosine Distance: 1.0\n",
      "Weighted Distance: 0.0\n",
      "151.2434482574463ms | 7fps | 7.881987577639752 avg fps\n",
      "25\n",
      "Cosine Distance: 1.0000000000000002\n",
      "Weighted Distance: 0.0\n",
      "169.98815536499023ms | 6fps | 7.876160990712075 avg fps\n",
      "25\n",
      "Cosine Distance: 1.0\n",
      "Weighted Distance: 0.0\n",
      "168.08128356933594ms | 6fps | 7.87037037037037 avg fps\n",
      "25\n",
      "Cosine Distance: 1.0\n",
      "Weighted Distance: 0.0\n",
      "110.0916862487793ms | 9fps | 7.873846153846154 avg fps\n",
      "25\n",
      "Cosine Distance: 1.0000000000000002\n",
      "Weighted Distance: 0.0\n",
      "131.76369667053223ms | 8fps | 7.874233128834356 avg fps\n",
      "25\n",
      "Cosine Distance: 1.0\n",
      "Weighted Distance: 0.0\n",
      "149.52468872070312ms | 7fps | 7.871559633027523 avg fps\n",
      "25\n",
      "Cosine Distance: 1.0\n",
      "Weighted Distance: 0.0\n",
      "112.89286613464355ms | 9fps | 7.875 avg fps\n",
      "25\n",
      "Cosine Distance: 0.9999999999999998\n",
      "Weighted Distance: 0.0\n",
      "75.3631591796875ms | 13fps | 7.890577507598784 avg fps\n",
      "25\n",
      "Cosine Distance: 0.9999999999999998\n",
      "Weighted Distance: 0.0\n",
      "61.88797950744629ms | 16fps | 7.915151515151515 avg fps\n",
      "25\n",
      "Cosine Distance: 1.0\n",
      "Weighted Distance: 0.0\n",
      "67.95525550842285ms | 15fps | 7.936555891238671 avg fps\n",
      "25\n",
      "Cosine Distance: 1.0\n",
      "Weighted Distance: 0.0\n",
      "60.81104278564453ms | 16fps | 7.960843373493976 avg fps\n",
      "25\n",
      "Cosine Distance: 1.0000000000000002\n",
      "Weighted Distance: 0.0\n",
      "55.913686752319336ms | 18fps | 7.990990990990991 avg fps\n",
      "25\n",
      "Cosine Distance: 1.0\n",
      "Weighted Distance: 0.0\n",
      "56.98990821838379ms | 18fps | 8.020958083832335 avg fps\n",
      "25\n",
      "Cosine Distance: 1.0\n",
      "Weighted Distance: 0.0\n",
      "80.62076568603516ms | 12fps | 8.032835820895523 avg fps\n",
      "25\n",
      "Cosine Distance: 0.9999999999999998\n",
      "Weighted Distance: 0.0\n",
      "121.35529518127441ms | 8fps | 8.032738095238095 avg fps\n",
      "25\n",
      "Cosine Distance: 1.0000000000000002\n",
      "Weighted Distance: 0.0\n",
      "140.38991928100586ms | 7fps | 8.029673590504451 avg fps\n",
      "25\n",
      "Cosine Distance: 1.0000000000000002\n",
      "Weighted Distance: 0.0\n",
      "134.34362411499023ms | 7fps | 8.02662721893491 avg fps\n",
      "25\n",
      "Cosine Distance: 1.0\n",
      "Weighted Distance: 0.0\n",
      "131.35504722595215ms | 8fps | 8.026548672566372 avg fps\n",
      "25\n",
      "Cosine Distance: 1.0\n",
      "Weighted Distance: 0.0\n",
      "113.06118965148926ms | 9fps | 8.029411764705882 avg fps\n",
      "25\n",
      "Cosine Distance: 1.0000000000000002\n",
      "Weighted Distance: 0.0\n",
      "167.81044006347656ms | 6fps | 8.023460410557185 avg fps\n",
      "25\n",
      "Cosine Distance: 0.9999999999999998\n",
      "Weighted Distance: 0.0\n",
      "121.38652801513672ms | 8fps | 8.023391812865498 avg fps\n",
      "25\n",
      "Cosine Distance: 1.0000000000000002\n",
      "Weighted Distance: 0.0\n",
      "134.52506065368652ms | 7fps | 8.020408163265307 avg fps\n",
      "25\n",
      "Cosine Distance: 1.0000000000000002\n",
      "Weighted Distance: 0.0\n",
      "169.51537132263184ms | 6fps | 8.01453488372093 avg fps\n",
      "25\n",
      "Cosine Distance: 0.9999999999999998\n",
      "Weighted Distance: 0.0\n",
      "132.69591331481934ms | 8fps | 8.014492753623188 avg fps\n",
      "25\n",
      "Cosine Distance: 0.9999999999999998\n",
      "Weighted Distance: 0.0\n",
      "133.31985473632812ms | 8fps | 8.014450867052023 avg fps\n",
      "25\n",
      "Cosine Distance: 1.0\n",
      "Weighted Distance: 0.0\n",
      "100.39043426513672ms | 10fps | 8.020172910662824 avg fps\n",
      "25\n",
      "Cosine Distance: 1.0000000000000002\n",
      "Weighted Distance: 0.0\n",
      "131.1185359954834ms | 8fps | 8.020114942528735 avg fps\n",
      "25\n",
      "Cosine Distance: 1.0\n",
      "Weighted Distance: 0.0\n",
      "163.9249324798584ms | 6fps | 8.01432664756447 avg fps\n",
      "25\n",
      "Cosine Distance: 0.9999999999999999\n",
      "Weighted Distance: 0.0\n",
      "220.76940536499023ms | 5fps | 8.005714285714285 avg fps\n",
      "25\n",
      "Cosine Distance: 0.9999999999999999\n",
      "Weighted Distance: 0.0\n",
      "186.51294708251953ms | 5fps | 7.997150997150997 avg fps\n",
      "25\n",
      "Cosine Distance: 1.0\n",
      "Weighted Distance: 0.0\n",
      "115.92340469360352ms | 9fps | 8.0 avg fps\n",
      "25\n",
      "Cosine Distance: 1.0\n",
      "Weighted Distance: 0.0\n",
      "150.54845809936523ms | 7fps | 7.997167138810198 avg fps\n",
      "25\n",
      "Cosine Distance: 1.0\n",
      "Weighted Distance: 0.0\n",
      "144.89364624023438ms | 7fps | 7.994350282485875 avg fps\n",
      "25\n",
      "Cosine Distance: 0.9999999999999999\n",
      "Weighted Distance: 0.0\n",
      "283.02669525146484ms | 4fps | 7.983098591549296 avg fps\n",
      "25\n",
      "Cosine Distance: 1.0000000000000002\n",
      "Weighted Distance: 0.0\n",
      "124.29571151733398ms | 8fps | 7.98314606741573 avg fps\n",
      "25\n",
      "Cosine Distance: 1.0\n",
      "Weighted Distance: 0.0\n",
      "91.80164337158203ms | 11fps | 7.991596638655462 avg fps\n",
      "25\n",
      "Cosine Distance: 0.9999999999999998\n",
      "Weighted Distance: 0.0\n",
      "96.11964225769043ms | 10fps | 7.9972067039106145 avg fps\n",
      "25\n",
      "Cosine Distance: 1.0000000000000002\n",
      "Weighted Distance: 0.0\n",
      "78.2015323638916ms | 13fps | 8.011142061281337 avg fps\n",
      "25\n",
      "Cosine Distance: 1.0000000000000002\n",
      "Weighted Distance: 0.0\n",
      "65.52314758300781ms | 15fps | 8.030555555555555 avg fps\n",
      "25\n",
      "Cosine Distance: 1.0\n",
      "Weighted Distance: 0.0\n",
      "69.34380531311035ms | 14fps | 8.047091412742382 avg fps\n",
      "25\n",
      "Cosine Distance: 0.9999999999999998\n",
      "Weighted Distance: 0.0\n",
      "96.65632247924805ms | 10fps | 8.052486187845304 avg fps\n",
      "25\n",
      "Cosine Distance: 1.0000000000000002\n",
      "Weighted Distance: 0.0\n",
      "82.45110511779785ms | 12fps | 8.0633608815427 avg fps\n",
      "25\n",
      "Cosine Distance: 1.0\n",
      "Weighted Distance: 0.0\n",
      "132.2493553161621ms | 8fps | 8.063186813186814 avg fps\n",
      "25\n",
      "Cosine Distance: 1.0000000000000002\n",
      "Weighted Distance: 0.0\n",
      "113.21806907653809ms | 9fps | 8.065753424657535 avg fps\n",
      "25\n",
      "Cosine Distance: 1.0\n",
      "Weighted Distance: 0.0\n",
      "212.79668807983398ms | 5fps | 8.057377049180328 avg fps\n",
      "25\n",
      "Cosine Distance: 1.0000000000000002\n",
      "Weighted Distance: 0.0\n",
      "201.9965648651123ms | 5fps | 8.049046321525886 avg fps\n",
      "25\n",
      "Cosine Distance: 0.9999999999999998\n",
      "Weighted Distance: 0.0\n",
      "161.3922119140625ms | 6fps | 8.043478260869565 avg fps\n",
      "25\n",
      "Cosine Distance: 0.9999999999999999\n",
      "Weighted Distance: 0.0\n",
      "100.65507888793945ms | 10fps | 8.048780487804878 avg fps\n",
      "25\n",
      "Cosine Distance: 1.0\n",
      "Weighted Distance: 0.0\n",
      "138.08917999267578ms | 7fps | 8.045945945945945 avg fps\n",
      "25\n",
      "Cosine Distance: 1.0\n",
      "Weighted Distance: 0.0\n",
      "131.54935836791992ms | 8fps | 8.045822102425875 avg fps\n",
      "25\n",
      "Cosine Distance: 1.0000000000000002\n",
      "Weighted Distance: 0.0\n",
      "142.93169975280762ms | 7fps | 8.043010752688172 avg fps\n",
      "25\n",
      "Cosine Distance: 1.0\n",
      "Weighted Distance: 0.0\n",
      "178.6198616027832ms | 6fps | 8.037533512064343 avg fps\n",
      "25\n",
      "Cosine Distance: 1.0000000000000002\n",
      "Weighted Distance: 0.0\n",
      "145.07770538330078ms | 7fps | 8.03475935828877 avg fps\n",
      "25\n",
      "Cosine Distance: 1.0\n",
      "Weighted Distance: 0.0\n",
      "122.33757972717285ms | 8fps | 8.034666666666666 avg fps\n",
      "25\n",
      "Cosine Distance: 1.0\n",
      "Weighted Distance: 0.0\n",
      "163.0077362060547ms | 6fps | 8.029255319148936 avg fps\n",
      "25\n",
      "Cosine Distance: 1.0000000000000002\n",
      "Weighted Distance: 0.0\n",
      "157.1218967437744ms | 6fps | 8.023872679045093 avg fps\n",
      "25\n",
      "Cosine Distance: 0.9999999999999998\n",
      "Weighted Distance: 0.0\n",
      "168.9450740814209ms | 6fps | 8.018518518518519 avg fps\n",
      "25\n",
      "Cosine Distance: 0.9999999999999998\n",
      "Weighted Distance: 0.0\n",
      "188.6427402496338ms | 5fps | 8.010554089709762 avg fps\n",
      "25\n",
      "Cosine Distance: 1.0\n",
      "Weighted Distance: 0.0\n",
      "176.0997772216797ms | 6fps | 8.005263157894737 avg fps\n"
     ]
    },
    {
     "name": "stdout",
     "output_type": "stream",
     "text": [
      "25\n",
      "Cosine Distance: 1.0\n",
      "Weighted Distance: 0.0\n",
      "138.4885311126709ms | 7fps | 8.00262467191601 avg fps\n",
      "25\n",
      "Cosine Distance: 1.0\n",
      "Weighted Distance: 0.0\n",
      "131.20007514953613ms | 8fps | 8.002617801047121 avg fps\n",
      "25\n",
      "Cosine Distance: 0.9999999999999998\n",
      "Weighted Distance: 0.0\n",
      "133.74924659729004ms | 7fps | 8.0 avg fps\n",
      "25\n",
      "Cosine Distance: 1.0\n",
      "Weighted Distance: 0.0\n",
      "105.49664497375488ms | 9fps | 8.002604166666666 avg fps\n",
      "25\n",
      "Cosine Distance: 1.0\n",
      "Weighted Distance: 0.0\n",
      "61.53392791748047ms | 16fps | 8.023376623376624 avg fps\n",
      "25\n",
      "Cosine Distance: 1.0\n",
      "Weighted Distance: 0.0\n",
      "58.92229080200195ms | 17fps | 8.046632124352332 avg fps\n",
      "25\n",
      "Cosine Distance: 1.0000000000000002\n",
      "Weighted Distance: 0.0\n",
      "66.51687622070312ms | 15fps | 8.064599483204134 avg fps\n",
      "25\n",
      "Cosine Distance: 1.0\n",
      "Weighted Distance: 0.0\n",
      "59.55362319946289ms | 17fps | 8.087628865979381 avg fps\n",
      "25\n",
      "Cosine Distance: 1.0\n",
      "Weighted Distance: 0.0\n",
      "59.0665340423584ms | 17fps | 8.110539845758355 avg fps\n",
      "25\n",
      "Cosine Distance: 1.0000000000000002\n",
      "Weighted Distance: 0.0\n",
      "64.08977508544922ms | 16fps | 8.13076923076923 avg fps\n",
      "25\n",
      "Cosine Distance: 0.9999999999999998\n",
      "Weighted Distance: 0.0\n",
      "85.2208137512207ms | 12fps | 8.140664961636828 avg fps\n",
      "25\n",
      "Cosine Distance: 1.0\n",
      "Weighted Distance: 0.0\n",
      "157.36794471740723ms | 6fps | 8.135204081632653 avg fps\n",
      "25\n",
      "Cosine Distance: 1.0\n",
      "Weighted Distance: 0.0\n",
      "121.3827133178711ms | 8fps | 8.134860050890586 avg fps\n",
      "25\n",
      "Cosine Distance: 0.9999999999999998\n",
      "Weighted Distance: 0.0\n",
      "151.48210525512695ms | 7fps | 8.131979695431472 avg fps\n",
      "25\n",
      "Cosine Distance: 0.9999999999999999\n",
      "Weighted Distance: 0.0\n",
      "155.60173988342285ms | 6fps | 8.126582278481013 avg fps\n",
      "25\n",
      "Cosine Distance: 1.0000000000000002\n",
      "Weighted Distance: 0.0\n",
      "144.46783065795898ms | 7fps | 8.123737373737374 avg fps\n",
      "25\n",
      "Cosine Distance: 1.0000000000000002\n",
      "Weighted Distance: 0.0\n",
      "187.17145919799805ms | 5fps | 8.115869017632242 avg fps\n",
      "25\n",
      "Cosine Distance: 1.0\n",
      "Weighted Distance: 0.0\n",
      "160.63785552978516ms | 6fps | 8.110552763819095 avg fps\n",
      "25\n",
      "Cosine Distance: 1.0\n",
      "Weighted Distance: 0.0\n",
      "150.03657341003418ms | 7fps | 8.107769423558898 avg fps\n",
      "25\n",
      "Cosine Distance: 1.0000000000000002\n",
      "Weighted Distance: 0.0\n",
      "137.79878616333008ms | 7fps | 8.105 avg fps\n",
      "25\n",
      "Cosine Distance: 1.0000000000000002\n",
      "Weighted Distance: 0.0\n",
      "133.6076259613037ms | 7fps | 8.102244389027431 avg fps\n",
      "25\n",
      "Cosine Distance: 0.9999999999999998\n",
      "Weighted Distance: 0.0\n",
      "137.21179962158203ms | 7fps | 8.099502487562189 avg fps\n",
      "25\n",
      "Cosine Distance: 1.0000000000000002\n",
      "Weighted Distance: 0.0\n",
      "165.4677391052246ms | 6fps | 8.094292803970223 avg fps\n",
      "25\n",
      "Cosine Distance: 0.9999999999999998\n",
      "Weighted Distance: 0.0\n",
      "153.55372428894043ms | 7fps | 8.091584158415841 avg fps\n",
      "25\n",
      "Cosine Distance: 0.9999999999999998\n",
      "Weighted Distance: 0.0\n",
      "127.66218185424805ms | 8fps | 8.091358024691358 avg fps\n",
      "25\n",
      "Cosine Distance: 1.0000000000000002\n",
      "Weighted Distance: 0.0\n",
      "122.35450744628906ms | 8fps | 8.091133004926109 avg fps\n",
      "25\n",
      "Cosine Distance: 0.9999999999999998\n",
      "Weighted Distance: 0.0\n",
      "158.8454246520996ms | 6fps | 8.085995085995085 avg fps\n",
      "25\n",
      "Cosine Distance: 0.9999999999999998\n",
      "Weighted Distance: 0.0\n",
      "176.81479454040527ms | 6fps | 8.080882352941176 avg fps\n",
      "25\n",
      "Cosine Distance: 1.0\n",
      "Weighted Distance: 0.0\n",
      "111.85097694396973ms | 9fps | 8.083129584352077 avg fps\n",
      "25\n",
      "Cosine Distance: 1.0000000000000002\n",
      "Weighted Distance: 0.0\n",
      "134.047269821167ms | 7fps | 8.080487804878048 avg fps\n"
     ]
    },
    {
     "ename": "KeyboardInterrupt",
     "evalue": "",
     "output_type": "error",
     "traceback": [
      "\u001b[0;31m---------------------------------------------------------------------------\u001b[0m",
      "\u001b[0;31mKeyboardInterrupt\u001b[0m                         Traceback (most recent call last)",
      "\u001b[0;32m<ipython-input-64-0edb8842aaa1>\u001b[0m in \u001b[0;36m<module>\u001b[0;34m\u001b[0m\n\u001b[1;32m     12\u001b[0m     \u001b[0msuccess\u001b[0m\u001b[0;34m,\u001b[0m \u001b[0mframe\u001b[0m \u001b[0;34m=\u001b[0m \u001b[0mcap\u001b[0m\u001b[0;34m.\u001b[0m\u001b[0mread\u001b[0m\u001b[0;34m(\u001b[0m\u001b[0;34m)\u001b[0m\u001b[0;34m\u001b[0m\u001b[0;34m\u001b[0m\u001b[0m\n\u001b[1;32m     13\u001b[0m \u001b[0;34m\u001b[0m\u001b[0m\n\u001b[0;32m---> 14\u001b[0;31m     \u001b[0mframe\u001b[0m \u001b[0;34m=\u001b[0m \u001b[0mdetector\u001b[0m\u001b[0;34m.\u001b[0m\u001b[0mfindPose\u001b[0m\u001b[0;34m(\u001b[0m\u001b[0mframe\u001b[0m\u001b[0;34m)\u001b[0m\u001b[0;34m\u001b[0m\u001b[0;34m\u001b[0m\u001b[0m\n\u001b[0m\u001b[1;32m     15\u001b[0m     \u001b[0mlm_list\u001b[0m \u001b[0;34m=\u001b[0m \u001b[0mdetector\u001b[0m\u001b[0;34m.\u001b[0m\u001b[0mfindPosition\u001b[0m\u001b[0;34m(\u001b[0m\u001b[0mframe\u001b[0m\u001b[0;34m,\u001b[0m \u001b[0mdraw\u001b[0m\u001b[0;34m=\u001b[0m\u001b[0;32mFalse\u001b[0m\u001b[0;34m)\u001b[0m\u001b[0;34m\u001b[0m\u001b[0;34m\u001b[0m\u001b[0m\n\u001b[1;32m     16\u001b[0m \u001b[0;34m\u001b[0m\u001b[0m\n",
      "\u001b[0;32m<ipython-input-26-67cc6c70e713>\u001b[0m in \u001b[0;36mfindPose\u001b[0;34m(self, img, draw)\u001b[0m\n\u001b[1;32m    104\u001b[0m     \u001b[0;32mdef\u001b[0m \u001b[0mfindPose\u001b[0m\u001b[0;34m(\u001b[0m\u001b[0mself\u001b[0m\u001b[0;34m,\u001b[0m \u001b[0mimg\u001b[0m\u001b[0;34m,\u001b[0m \u001b[0mdraw\u001b[0m\u001b[0;34m=\u001b[0m\u001b[0;32mTrue\u001b[0m\u001b[0;34m)\u001b[0m\u001b[0;34m:\u001b[0m\u001b[0;34m\u001b[0m\u001b[0;34m\u001b[0m\u001b[0m\n\u001b[1;32m    105\u001b[0m         \u001b[0mimgRGB\u001b[0m \u001b[0;34m=\u001b[0m \u001b[0mcv2\u001b[0m\u001b[0;34m.\u001b[0m\u001b[0mcvtColor\u001b[0m\u001b[0;34m(\u001b[0m\u001b[0mimg\u001b[0m\u001b[0;34m,\u001b[0m \u001b[0mcv2\u001b[0m\u001b[0;34m.\u001b[0m\u001b[0mCOLOR_BGR2RGB\u001b[0m\u001b[0;34m)\u001b[0m\u001b[0;34m\u001b[0m\u001b[0;34m\u001b[0m\u001b[0m\n\u001b[0;32m--> 106\u001b[0;31m         \u001b[0mself\u001b[0m\u001b[0;34m.\u001b[0m\u001b[0mresults\u001b[0m \u001b[0;34m=\u001b[0m \u001b[0mself\u001b[0m\u001b[0;34m.\u001b[0m\u001b[0mpose\u001b[0m\u001b[0;34m.\u001b[0m\u001b[0mprocess\u001b[0m\u001b[0;34m(\u001b[0m\u001b[0mimgRGB\u001b[0m\u001b[0;34m)\u001b[0m\u001b[0;34m\u001b[0m\u001b[0;34m\u001b[0m\u001b[0m\n\u001b[0m\u001b[1;32m    107\u001b[0m         \u001b[0;32mif\u001b[0m \u001b[0mself\u001b[0m\u001b[0;34m.\u001b[0m\u001b[0mresults\u001b[0m\u001b[0;34m.\u001b[0m\u001b[0mpose_landmarks\u001b[0m\u001b[0;34m:\u001b[0m\u001b[0;34m\u001b[0m\u001b[0;34m\u001b[0m\u001b[0m\n\u001b[1;32m    108\u001b[0m             \u001b[0;32mif\u001b[0m \u001b[0mdraw\u001b[0m\u001b[0;34m:\u001b[0m\u001b[0;34m\u001b[0m\u001b[0;34m\u001b[0m\u001b[0m\n",
      "\u001b[0;32m~/anaconda3/lib/python3.8/site-packages/mediapipe/python/solutions/pose.py\u001b[0m in \u001b[0;36mprocess\u001b[0;34m(self, image)\u001b[0m\n\u001b[1;32m    196\u001b[0m     \"\"\"\n\u001b[1;32m    197\u001b[0m \u001b[0;34m\u001b[0m\u001b[0m\n\u001b[0;32m--> 198\u001b[0;31m     \u001b[0mresults\u001b[0m \u001b[0;34m=\u001b[0m \u001b[0msuper\u001b[0m\u001b[0;34m(\u001b[0m\u001b[0;34m)\u001b[0m\u001b[0;34m.\u001b[0m\u001b[0mprocess\u001b[0m\u001b[0;34m(\u001b[0m\u001b[0minput_data\u001b[0m\u001b[0;34m=\u001b[0m\u001b[0;34m{\u001b[0m\u001b[0;34m'image'\u001b[0m\u001b[0;34m:\u001b[0m \u001b[0mimage\u001b[0m\u001b[0;34m}\u001b[0m\u001b[0;34m)\u001b[0m\u001b[0;34m\u001b[0m\u001b[0;34m\u001b[0m\u001b[0m\n\u001b[0m\u001b[1;32m    199\u001b[0m     \u001b[0;32mif\u001b[0m \u001b[0mresults\u001b[0m\u001b[0;34m.\u001b[0m\u001b[0mpose_landmarks\u001b[0m\u001b[0;34m:\u001b[0m\u001b[0;34m\u001b[0m\u001b[0;34m\u001b[0m\u001b[0m\n\u001b[1;32m    200\u001b[0m       \u001b[0;32mfor\u001b[0m \u001b[0mlandmark\u001b[0m \u001b[0;32min\u001b[0m \u001b[0mresults\u001b[0m\u001b[0;34m.\u001b[0m\u001b[0mpose_landmarks\u001b[0m\u001b[0;34m.\u001b[0m\u001b[0mlandmark\u001b[0m\u001b[0;34m:\u001b[0m\u001b[0;34m\u001b[0m\u001b[0;34m\u001b[0m\u001b[0m\n",
      "\u001b[0;32m~/anaconda3/lib/python3.8/site-packages/mediapipe/python/solution_base.py\u001b[0m in \u001b[0;36mprocess\u001b[0;34m(self, input_data)\u001b[0m\n\u001b[1;32m    305\u001b[0m             f'type is not supported yet.')\n\u001b[1;32m    306\u001b[0m \u001b[0;34m\u001b[0m\u001b[0m\n\u001b[0;32m--> 307\u001b[0;31m     \u001b[0mself\u001b[0m\u001b[0;34m.\u001b[0m\u001b[0m_graph\u001b[0m\u001b[0;34m.\u001b[0m\u001b[0mwait_until_idle\u001b[0m\u001b[0;34m(\u001b[0m\u001b[0;34m)\u001b[0m\u001b[0;34m\u001b[0m\u001b[0;34m\u001b[0m\u001b[0m\n\u001b[0m\u001b[1;32m    308\u001b[0m     \u001b[0;31m# Create a NamedTuple object where the field names are mapping to the graph\u001b[0m\u001b[0;34m\u001b[0m\u001b[0;34m\u001b[0m\u001b[0;34m\u001b[0m\u001b[0m\n\u001b[1;32m    309\u001b[0m     \u001b[0;31m# output stream names.\u001b[0m\u001b[0;34m\u001b[0m\u001b[0;34m\u001b[0m\u001b[0;34m\u001b[0m\u001b[0m\n",
      "\u001b[0;31mKeyboardInterrupt\u001b[0m: "
     ]
    }
   ],
   "source": [
    "# TEST VIDEO\n",
    "\n",
    "cap = cv.VideoCapture(0)\n",
    "# detector = poseDetector()\n",
    "\n",
    "overall_sum = 0.0\n",
    "amount = 0\n",
    "while True:\n",
    "# for frame in expected_pose:\n",
    "    start_time = time.time()\n",
    "    \n",
    "    success, frame = cap.read()\n",
    "    \n",
    "    frame = detector.findPose(frame)\n",
    "    lm_list = detector.findPosition(frame, draw=False)\n",
    "    \n",
    "    pose = [(x, y) for (idx, x, y) in lm_list]\n",
    "    conf = [1.0 for x in pose1]\n",
    "    \n",
    "    \n",
    "    print(len(pose))\n",
    "    crop_and_resize_matching(pose, pose)\n",
    "    #inp = cv.dnn.blobFromImage(frame1, (1.0 / 255), (inWidth, inHeight), (0, 0, 0), swapRB=False, crop=False)\n",
    "    #net.setInput(inp)\n",
    "    #out = net.forward()\n",
    "    \n",
    "    end_time = time.time()\n",
    "    \n",
    "    amount += 1\n",
    "    diff = (end_time - start_time)\n",
    "    fps = int(round(1.0 / diff))\n",
    "    overall_sum += fps\n",
    "    print(f\"{1000 * diff}ms | {fps}fps | {overall_sum / amount} avg fps\")"
   ]
  }
 ],
 "metadata": {
  "colab": {
   "name": "Human Pose Estimation.ipynb",
   "provenance": []
  },
  "kernelspec": {
   "display_name": "Python 3",
   "language": "python",
   "name": "python3"
  },
  "language_info": {
   "codemirror_mode": {
    "name": "ipython",
    "version": 3
   },
   "file_extension": ".py",
   "mimetype": "text/x-python",
   "name": "python",
   "nbconvert_exporter": "python",
   "pygments_lexer": "ipython3",
   "version": "3.8.5"
  },
  "toc": {
   "base_numbering": 1,
   "nav_menu": {},
   "number_sections": true,
   "sideBar": true,
   "skip_h1_title": false,
   "title_cell": "Table of Contents",
   "title_sidebar": "Contents",
   "toc_cell": false,
   "toc_position": {},
   "toc_section_display": true,
   "toc_window_display": true
  },
  "varInspector": {
   "cols": {
    "lenName": 16,
    "lenType": 16,
    "lenVar": 40
   },
   "kernels_config": {
    "python": {
     "delete_cmd_postfix": "",
     "delete_cmd_prefix": "del ",
     "library": "var_list.py",
     "varRefreshCmd": "print(var_dic_list())"
    },
    "r": {
     "delete_cmd_postfix": ") ",
     "delete_cmd_prefix": "rm(",
     "library": "var_list.r",
     "varRefreshCmd": "cat(var_dic_list()) "
    }
   },
   "types_to_exclude": [
    "module",
    "function",
    "builtin_function_or_method",
    "instance",
    "_Feature"
   ],
   "window_display": false
  }
 },
 "nbformat": 4,
 "nbformat_minor": 1
}
